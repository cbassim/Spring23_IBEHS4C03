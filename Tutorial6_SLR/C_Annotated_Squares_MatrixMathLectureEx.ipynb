{
 "cells": [
  {
   "cell_type": "markdown",
   "id": "wicked-jesus",
   "metadata": {},
   "source": [
    "# Simple Linear Regression Ordinary Least Squares Methodologies with Python"
   ]
  },
  {
   "cell_type": "code",
   "execution_count": 936,
   "id": "increasing-health",
   "metadata": {},
   "outputs": [
    {
     "name": "stdin",
     "output_type": "stream",
     "text": [
      "Once deleted, variables cannot be recovered. Proceed (y/[n])?  y\n"
     ]
    }
   ],
   "source": [
    "%reset\n",
    "import pandas as pd\n",
    "import numpy as np"
   ]
  },
  {
   "cell_type": "markdown",
   "id": "60da7a48-b6cb-4994-8f97-c6bbd739a49f",
   "metadata": {},
   "source": [
    "# Matrix Math for correlation"
   ]
  },
  {
   "cell_type": "code",
   "execution_count": 945,
   "id": "a84b93e9-3ede-4918-931d-8ce56dd07996",
   "metadata": {},
   "outputs": [],
   "source": [
    "XA=np.array([16.1,18.2,19.3,20.4])\n",
    "XB=np.array([36.7,37.1,37.7,42.1])"
   ]
  },
  {
   "cell_type": "code",
   "execution_count": 952,
   "id": "676557a3-73d4-4e8d-b32e-5b72c81bf087",
   "metadata": {},
   "outputs": [
    {
     "data": {
      "text/plain": [
       "3.3666666666666636"
      ]
     },
     "execution_count": 952,
     "metadata": {},
     "output_type": "execute_result"
    }
   ],
   "source": [
    "np.var(XA,ddof=1)"
   ]
  },
  {
   "cell_type": "code",
   "execution_count": 946,
   "id": "ac379d66-4267-4478-82ff-c4fc3bb9650c",
   "metadata": {},
   "outputs": [
    {
     "data": {
      "text/plain": [
       "array([[3.36666667, 3.64666667],\n",
       "       [3.64666667, 6.25333333]])"
      ]
     },
     "execution_count": 946,
     "metadata": {},
     "output_type": "execute_result"
    }
   ],
   "source": [
    "np.cov(XA,XB)"
   ]
  },
  {
   "cell_type": "code",
   "execution_count": 947,
   "id": "eb4364a7-8398-4db5-afef-49f7cb37ba31",
   "metadata": {},
   "outputs": [
    {
     "data": {
      "text/plain": [
       "array([[1.        , 0.79476772],\n",
       "       [0.79476772, 1.        ]])"
      ]
     },
     "execution_count": 947,
     "metadata": {},
     "output_type": "execute_result"
    }
   ],
   "source": [
    "np.corrcoef(XA,XB)"
   ]
  },
  {
   "cell_type": "markdown",
   "id": "bd1f59d5-8cc7-4328-8354-0ed6e64cf048",
   "metadata": {},
   "source": [
    "correlation = cov/(std of XA * sd of XB)"
   ]
  },
  {
   "cell_type": "code",
   "execution_count": 948,
   "id": "a8cf2848-427c-4dcc-a880-e6a3d3dc7aad",
   "metadata": {},
   "outputs": [
    {
     "data": {
      "text/plain": [
       "0.794838548630076"
      ]
     },
     "execution_count": 948,
     "metadata": {},
     "output_type": "execute_result"
    }
   ],
   "source": [
    "3.647/(np.sqrt(3.3667)*np.sqrt(6.2533))"
   ]
  },
  {
   "cell_type": "code",
   "execution_count": 949,
   "id": "c4b24351-2bae-4588-a919-586da3cee6a2",
   "metadata": {},
   "outputs": [
    {
     "data": {
      "text/plain": [
       "array([-2.4, -0.3,  0.8,  1.9])"
      ]
     },
     "execution_count": 949,
     "metadata": {},
     "output_type": "execute_result"
    }
   ],
   "source": [
    "# centering \n",
    "XAmc=XA-np.mean(XA)\n",
    "XAmc"
   ]
  },
  {
   "cell_type": "markdown",
   "id": "2dbe16b5-d27c-4865-acde-2eb6197f73e8",
   "metadata": {},
   "source": [
    "* Centering takes away the intercept term and simplifies math manipulation\n",
    "* Does not change the covaraince matrix\n",
    "* Sum of variable is 0"
   ]
  },
  {
   "cell_type": "code",
   "execution_count": 953,
   "id": "5a617b46-32b4-41f5-a716-be4c76e9553d",
   "metadata": {},
   "outputs": [],
   "source": [
    "X1=np.array([-2.4,-0.3,0.8,1.9])\n",
    "X2=np.array([-1.7,-1.3,-0.7,3.7])"
   ]
  },
  {
   "cell_type": "code",
   "execution_count": 954,
   "id": "0c83f9de-3bb2-467e-a803-4b016005b021",
   "metadata": {},
   "outputs": [
    {
     "data": {
      "text/plain": [
       "3.3666666666666667"
      ]
     },
     "execution_count": 954,
     "metadata": {},
     "output_type": "execute_result"
    }
   ],
   "source": [
    "np.var(X1,ddof=1)"
   ]
  },
  {
   "cell_type": "code",
   "execution_count": 955,
   "id": "0a4c431d-2fdd-4095-8aef-90b2cfcaa5c2",
   "metadata": {},
   "outputs": [
    {
     "data": {
      "text/plain": [
       "6.253333333333334"
      ]
     },
     "execution_count": 955,
     "metadata": {},
     "output_type": "execute_result"
    }
   ],
   "source": [
    "np.var(X2,ddof=1)"
   ]
  },
  {
   "cell_type": "code",
   "execution_count": 956,
   "id": "ba52ef25-792c-4db3-bc7a-a7dea2c3985d",
   "metadata": {},
   "outputs": [
    {
     "data": {
      "text/plain": [
       "array([[3.36666667, 3.64666667],\n",
       "       [3.64666667, 6.25333333]])"
      ]
     },
     "execution_count": 956,
     "metadata": {},
     "output_type": "execute_result"
    }
   ],
   "source": [
    "np.cov(X1,X2)"
   ]
  },
  {
   "cell_type": "code",
   "execution_count": 957,
   "id": "e785bfae-6fe2-4d42-9c00-aef2e30b2b8b",
   "metadata": {},
   "outputs": [
    {
     "data": {
      "text/plain": [
       "array([[1.        , 0.79476772],\n",
       "       [0.79476772, 1.        ]])"
      ]
     },
     "execution_count": 957,
     "metadata": {},
     "output_type": "execute_result"
    }
   ],
   "source": [
    "np.corrcoef(X1,X2)"
   ]
  },
  {
   "cell_type": "code",
   "execution_count": 958,
   "id": "f6183efb-d4ee-4bb6-a9fe-c6dc8c965475",
   "metadata": {},
   "outputs": [
    {
     "data": {
      "text/plain": [
       "2.220446049250313e-16"
      ]
     },
     "execution_count": 958,
     "metadata": {},
     "output_type": "execute_result"
    }
   ],
   "source": [
    "sum(X1)"
   ]
  },
  {
   "cell_type": "code",
   "execution_count": 968,
   "id": "355c4396-d30e-44f2-b0c1-d73af41daac1",
   "metadata": {},
   "outputs": [
    {
     "data": {
      "text/plain": [
       "(4,)"
      ]
     },
     "execution_count": 968,
     "metadata": {},
     "output_type": "execute_result"
    }
   ],
   "source": [
    "X2.shape"
   ]
  },
  {
   "cell_type": "code",
   "execution_count": 969,
   "id": "0914e1ae-0786-4b3b-9c3d-f7aa09da1ba7",
   "metadata": {},
   "outputs": [
    {
     "data": {
      "text/plain": [
       "array([-1.7, -1.3, -0.7,  3.7])"
      ]
     },
     "execution_count": 969,
     "metadata": {},
     "output_type": "execute_result"
    }
   ],
   "source": [
    "X2"
   ]
  },
  {
   "cell_type": "code",
   "execution_count": 970,
   "id": "58384384-967f-4b89-873e-54734008c5ac",
   "metadata": {},
   "outputs": [
    {
     "data": {
      "text/html": [
       "<div>\n",
       "<style scoped>\n",
       "    .dataframe tbody tr th:only-of-type {\n",
       "        vertical-align: middle;\n",
       "    }\n",
       "\n",
       "    .dataframe tbody tr th {\n",
       "        vertical-align: top;\n",
       "    }\n",
       "\n",
       "    .dataframe thead th {\n",
       "        text-align: right;\n",
       "    }\n",
       "</style>\n",
       "<table border=\"1\" class=\"dataframe\">\n",
       "  <thead>\n",
       "    <tr style=\"text-align: right;\">\n",
       "      <th></th>\n",
       "      <th>X1</th>\n",
       "      <th>X2</th>\n",
       "    </tr>\n",
       "  </thead>\n",
       "  <tbody>\n",
       "    <tr>\n",
       "      <th>0</th>\n",
       "      <td>-2.4</td>\n",
       "      <td>-1.7</td>\n",
       "    </tr>\n",
       "    <tr>\n",
       "      <th>1</th>\n",
       "      <td>-0.3</td>\n",
       "      <td>-1.3</td>\n",
       "    </tr>\n",
       "    <tr>\n",
       "      <th>2</th>\n",
       "      <td>0.8</td>\n",
       "      <td>-0.7</td>\n",
       "    </tr>\n",
       "    <tr>\n",
       "      <th>3</th>\n",
       "      <td>1.9</td>\n",
       "      <td>3.7</td>\n",
       "    </tr>\n",
       "  </tbody>\n",
       "</table>\n",
       "</div>"
      ],
      "text/plain": [
       "    X1   X2\n",
       "0 -2.4 -1.7\n",
       "1 -0.3 -1.3\n",
       "2  0.8 -0.7\n",
       "3  1.9  3.7"
      ]
     },
     "execution_count": 970,
     "metadata": {},
     "output_type": "execute_result"
    }
   ],
   "source": [
    "X_matrix=pd.DataFrame(X1,columns=[\"X1\"])\n",
    "X_matrix[\"X2\"]=X2.tolist()\n",
    "X_matrix"
   ]
  },
  {
   "cell_type": "code",
   "execution_count": 971,
   "id": "bb14c059-810a-4027-a0a6-fe17188c0af3",
   "metadata": {},
   "outputs": [
    {
     "data": {
      "text/plain": [
       "(4, 2)"
      ]
     },
     "execution_count": 971,
     "metadata": {},
     "output_type": "execute_result"
    }
   ],
   "source": [
    "X_matrix.shape"
   ]
  },
  {
   "cell_type": "code",
   "execution_count": 972,
   "id": "90c73d2d-b365-4656-860d-8dff3a45bf6f",
   "metadata": {},
   "outputs": [
    {
     "data": {
      "text/html": [
       "<div>\n",
       "<style scoped>\n",
       "    .dataframe tbody tr th:only-of-type {\n",
       "        vertical-align: middle;\n",
       "    }\n",
       "\n",
       "    .dataframe tbody tr th {\n",
       "        vertical-align: top;\n",
       "    }\n",
       "\n",
       "    .dataframe thead th {\n",
       "        text-align: right;\n",
       "    }\n",
       "</style>\n",
       "<table border=\"1\" class=\"dataframe\">\n",
       "  <thead>\n",
       "    <tr style=\"text-align: right;\">\n",
       "      <th></th>\n",
       "      <th>0</th>\n",
       "      <th>1</th>\n",
       "      <th>2</th>\n",
       "      <th>3</th>\n",
       "    </tr>\n",
       "  </thead>\n",
       "  <tbody>\n",
       "    <tr>\n",
       "      <th>X1</th>\n",
       "      <td>-2.4</td>\n",
       "      <td>-0.3</td>\n",
       "      <td>0.8</td>\n",
       "      <td>1.9</td>\n",
       "    </tr>\n",
       "    <tr>\n",
       "      <th>X2</th>\n",
       "      <td>-1.7</td>\n",
       "      <td>-1.3</td>\n",
       "      <td>-0.7</td>\n",
       "      <td>3.7</td>\n",
       "    </tr>\n",
       "  </tbody>\n",
       "</table>\n",
       "</div>"
      ],
      "text/plain": [
       "      0    1    2    3\n",
       "X1 -2.4 -0.3  0.8  1.9\n",
       "X2 -1.7 -1.3 -0.7  3.7"
      ]
     },
     "execution_count": 972,
     "metadata": {},
     "output_type": "execute_result"
    }
   ],
   "source": [
    "Xt=np.transpose(X_matrix)\n",
    "Xt"
   ]
  },
  {
   "cell_type": "code",
   "execution_count": 973,
   "id": "cf8845da-5b92-4c23-bae0-21c3238f1c33",
   "metadata": {},
   "outputs": [
    {
     "data": {
      "text/plain": [
       "(2, 4)"
      ]
     },
     "execution_count": 973,
     "metadata": {},
     "output_type": "execute_result"
    }
   ],
   "source": [
    "Xt.shape"
   ]
  },
  {
   "cell_type": "code",
   "execution_count": 974,
   "id": "341f4e8d-9418-4222-8c6f-22c189c27b82",
   "metadata": {},
   "outputs": [
    {
     "data": {
      "text/html": [
       "<div>\n",
       "<style scoped>\n",
       "    .dataframe tbody tr th:only-of-type {\n",
       "        vertical-align: middle;\n",
       "    }\n",
       "\n",
       "    .dataframe tbody tr th {\n",
       "        vertical-align: top;\n",
       "    }\n",
       "\n",
       "    .dataframe thead th {\n",
       "        text-align: right;\n",
       "    }\n",
       "</style>\n",
       "<table border=\"1\" class=\"dataframe\">\n",
       "  <thead>\n",
       "    <tr style=\"text-align: right;\">\n",
       "      <th></th>\n",
       "      <th>X1</th>\n",
       "      <th>X2</th>\n",
       "    </tr>\n",
       "  </thead>\n",
       "  <tbody>\n",
       "    <tr>\n",
       "      <th>X1</th>\n",
       "      <td>10.10</td>\n",
       "      <td>10.94</td>\n",
       "    </tr>\n",
       "    <tr>\n",
       "      <th>X2</th>\n",
       "      <td>10.94</td>\n",
       "      <td>18.76</td>\n",
       "    </tr>\n",
       "  </tbody>\n",
       "</table>\n",
       "</div>"
      ],
      "text/plain": [
       "       X1     X2\n",
       "X1  10.10  10.94\n",
       "X2  10.94  18.76"
      ]
     },
     "execution_count": 974,
     "metadata": {},
     "output_type": "execute_result"
    }
   ],
   "source": [
    "XtX=((Xt.dot(X_matrix)))\n",
    "XtX"
   ]
  },
  {
   "cell_type": "markdown",
   "id": "46aa4805-1e0f-4173-90f0-65a7823228b1",
   "metadata": {},
   "source": [
    "sum of the squared deviation from the mean for X1 = 10.10 = SSX1\n",
    "\n",
    "sum of squared deviation from the mean for X2 = 18.76 = SSX2\n",
    "\n",
    "sum of the cross products = 10.94 = SX1X2\n"
   ]
  },
  {
   "cell_type": "code",
   "execution_count": 867,
   "id": "67e7b9db-e743-4a1a-b4dd-4fc40ecc5df5",
   "metadata": {},
   "outputs": [
    {
     "data": {
      "text/plain": [
       "<matplotlib.lines.Line2D at 0x28be8665690>"
      ]
     },
     "execution_count": 867,
     "metadata": {},
     "output_type": "execute_result"
    },
    {
     "data": {
      "image/png": "[encoded data removed]",
      "text/plain": [
       "<Figure size 640x480 with 1 Axes>"
      ]
     },
     "metadata": {},
     "output_type": "display_data"
    }
   ],
   "source": [
    "import seaborn as sns\n",
    "plotX=sns.regplot(x='X1',y='X2',data=X_matrix,ci=None)\n",
    "plotX.axvline(x=np.mean(X1),c=\"r\",linestyle=\":\")\n",
    "plotX.axhline(y=np.mean(X2),c=\"r\",linestyle=\":\")"
   ]
  },
  {
   "cell_type": "markdown",
   "id": "8a2c214e-b675-4dbd-a35c-33c70933c3e4",
   "metadata": {},
   "source": [
    "# Moving from correlation to OLS Regression and the best fitting line\n",
    "\n",
    "We will work it out long form. "
   ]
  },
  {
   "cell_type": "code",
   "execution_count": 975,
   "id": "770d1077-4094-4359-817c-a4879fc1b918",
   "metadata": {},
   "outputs": [],
   "source": [
    "XB=np.array([16.1,18.2,19.3,20.4])\n",
    "YB=np.array([36.7,37.1,37.7,42.1])"
   ]
  },
  {
   "cell_type": "code",
   "execution_count": 976,
   "id": "5a2b18ba-17a1-42a1-8be2-2bf49b20f205",
   "metadata": {},
   "outputs": [
    {
     "data": {
      "text/plain": [
       "10.09999999999999"
      ]
     },
     "execution_count": 976,
     "metadata": {},
     "output_type": "execute_result"
    }
   ],
   "source": [
    "# sum of squared deviations = SSX\n",
    "np.sum(np.square(XB-np.mean(XB)))"
   ]
  },
  {
   "cell_type": "code",
   "execution_count": 977,
   "id": "047db580-b026-474a-b5ab-f41cd141432d",
   "metadata": {},
   "outputs": [
    {
     "data": {
      "text/plain": [
       "18.759999999999994"
      ]
     },
     "execution_count": 977,
     "metadata": {},
     "output_type": "execute_result"
    }
   ],
   "source": [
    "# sum of squared deviations = SSY\n",
    "np.sum(np.square(YB-np.mean(YB)))"
   ]
  },
  {
   "cell_type": "code",
   "execution_count": 978,
   "id": "e9133dca-f28b-4ac8-b5b8-971552a874ca",
   "metadata": {},
   "outputs": [
    {
     "data": {
      "text/plain": [
       "10.93999999999999"
      ]
     },
     "execution_count": 978,
     "metadata": {},
     "output_type": "execute_result"
    }
   ],
   "source": [
    "# sum of cross products = SXBYB\n",
    "np.sum((XB-np.mean(XB)) * (YB-np.mean(YB)))"
   ]
  },
  {
   "cell_type": "code",
   "execution_count": 979,
   "id": "466a3719-8f82-4ad7-9395-57aeafeb8f1e",
   "metadata": {},
   "outputs": [
    {
     "data": {
      "text/plain": [
       "array([[3.36666667, 3.64666667],\n",
       "       [3.64666667, 6.25333333]])"
      ]
     },
     "execution_count": 979,
     "metadata": {},
     "output_type": "execute_result"
    }
   ],
   "source": [
    "np.cov(XB,YB)"
   ]
  },
  {
   "cell_type": "code",
   "execution_count": 980,
   "id": "cf56651d-9227-4e6c-8e6c-6ea52249e2ef",
   "metadata": {},
   "outputs": [
    {
     "data": {
      "text/plain": [
       "array([[3.36666667, 3.64666667],\n",
       "       [3.64666667, 6.25333333]])"
      ]
     },
     "execution_count": 980,
     "metadata": {},
     "output_type": "execute_result"
    }
   ],
   "source": [
    "np.cov(XB-np.mean(XB),YB-np.mean(YB))"
   ]
  },
  {
   "cell_type": "markdown",
   "id": "8b9a658e-6674-440b-afbd-394c8d695a1e",
   "metadata": {},
   "source": [
    "sum of cross-products / (n-1) = 10.94 / 3 = 3.65 = covariance on off diagonal\n",
    "\n",
    "sum of squared deviations X  / (n-1) = 10.10 / 3 =  3.37 = variance of X"
   ]
  },
  {
   "cell_type": "code",
   "execution_count": 880,
   "id": "9c6cfd4a-0ea8-47df-842b-73ad3d3fb0d8",
   "metadata": {},
   "outputs": [
    {
     "data": {
      "text/plain": [
       "array([[1.        , 0.79476772],\n",
       "       [0.79476772, 1.        ]])"
      ]
     },
     "execution_count": 880,
     "metadata": {},
     "output_type": "execute_result"
    }
   ],
   "source": [
    "np.corrcoef(XB,YB)"
   ]
  },
  {
   "cell_type": "code",
   "execution_count": 881,
   "id": "b6609ebe-5bb8-419c-b7a0-c0b3b385c535",
   "metadata": {},
   "outputs": [
    {
     "data": {
      "text/plain": [
       "array([[1.        , 0.79476772],\n",
       "       [0.79476772, 1.        ]])"
      ]
     },
     "execution_count": 881,
     "metadata": {},
     "output_type": "execute_result"
    }
   ],
   "source": [
    "np.corrcoef((XB-np.mean(XB)),(YB-np.mean(YB)))"
   ]
  },
  {
   "cell_type": "code",
   "execution_count": 882,
   "id": "9ef9662e-13e9-45d8-bf83-6e667082e787",
   "metadata": {},
   "outputs": [
    {
     "data": {
      "text/plain": [
       "0.7928260869565216"
      ]
     },
     "execution_count": 882,
     "metadata": {},
     "output_type": "execute_result"
    }
   ],
   "source": [
    "# r = cov / sXsY = 3.65 / (2.50*1.84) = 3.65/4.6 = 0.794\n",
    "3.647 / (2.50*1.84)"
   ]
  },
  {
   "cell_type": "code",
   "execution_count": 883,
   "id": "4cd047f1-035e-4440-98a7-2283da2d06c2",
   "metadata": {},
   "outputs": [
    {
     "data": {
      "text/plain": [
       "2.500666577801473"
      ]
     },
     "execution_count": 883,
     "metadata": {},
     "output_type": "execute_result"
    }
   ],
   "source": [
    "np.sqrt(np.var(YB,ddof=1))"
   ]
  },
  {
   "cell_type": "code",
   "execution_count": 884,
   "id": "a8f11ded-9485-44c4-b306-ad0c06befb7f",
   "metadata": {},
   "outputs": [
    {
     "data": {
      "text/plain": [
       "2.500666577801473"
      ]
     },
     "execution_count": 884,
     "metadata": {},
     "output_type": "execute_result"
    }
   ],
   "source": [
    "np.sqrt(np.var((YB-np.mean(YB)),ddof=1))"
   ]
  },
  {
   "cell_type": "code",
   "execution_count": 885,
   "id": "827c002b-11c6-40e6-b81a-75f0ac304d82",
   "metadata": {},
   "outputs": [
    {
     "data": {
      "text/plain": [
       "1.834847859269717"
      ]
     },
     "execution_count": 885,
     "metadata": {},
     "output_type": "execute_result"
    }
   ],
   "source": [
    "np.sqrt(np.var(XB,ddof=1))"
   ]
  },
  {
   "cell_type": "markdown",
   "id": "981a987d-4c50-4fd5-81cc-cef4a598bfaf",
   "metadata": {},
   "source": [
    "* slope of regression line = Sum of cross products / sum of squared deviations from X = beta coefficient for X = 1.08\n",
    "\n",
    "* slope of regression line = covX,Y / varX"
   ]
  },
  {
   "cell_type": "code",
   "execution_count": 981,
   "id": "09f09181-366e-4a52-badf-1622c8c29107",
   "metadata": {},
   "outputs": [
    {
     "data": {
      "text/plain": [
       "1.0831683168316832"
      ]
     },
     "execution_count": 981,
     "metadata": {},
     "output_type": "execute_result"
    }
   ],
   "source": [
    "10.94/10.10"
   ]
  },
  {
   "cell_type": "code",
   "execution_count": 982,
   "id": "f28c410f-27dd-439c-aacc-0611f9abc204",
   "metadata": {},
   "outputs": [
    {
     "data": {
      "text/plain": [
       "1.0831600831600832"
      ]
     },
     "execution_count": 982,
     "metadata": {},
     "output_type": "execute_result"
    }
   ],
   "source": [
    "3.647/3.367"
   ]
  },
  {
   "cell_type": "markdown",
   "id": "1240156a-37cd-4903-bd3a-2dc243f9bc7a",
   "metadata": {},
   "source": [
    "* find the y-intercept\n",
    "\n",
    "y-intercept = b0 = ymean - b1*xmean = 38.4 - (1.08 * 18.5) = 18.36"
   ]
  },
  {
   "cell_type": "code",
   "execution_count": 888,
   "id": "9dce1656-6d01-41df-8a58-d409987e3d4b",
   "metadata": {},
   "outputs": [
    {
     "data": {
      "text/plain": [
       "38.400000000000006"
      ]
     },
     "execution_count": 888,
     "metadata": {},
     "output_type": "execute_result"
    }
   ],
   "source": [
    "np.mean(YB)"
   ]
  },
  {
   "cell_type": "code",
   "execution_count": 889,
   "id": "1a84553e-9dba-4eb3-b8e8-5a73a0b86a1f",
   "metadata": {},
   "outputs": [
    {
     "data": {
      "text/plain": [
       "18.5"
      ]
     },
     "execution_count": 889,
     "metadata": {},
     "output_type": "execute_result"
    }
   ],
   "source": [
    "np.mean(XB)"
   ]
  },
  {
   "cell_type": "code",
   "execution_count": 983,
   "id": "696ae9c7-7644-4ba5-a4c5-4a13bd7c309d",
   "metadata": {},
   "outputs": [
    {
     "data": {
      "text/plain": [
       "18.36080000000001"
      ]
     },
     "execution_count": 983,
     "metadata": {},
     "output_type": "execute_result"
    }
   ],
   "source": [
    "np.mean(YB) - 1.0832 * np.mean(XB)"
   ]
  },
  {
   "cell_type": "markdown",
   "id": "25ccab95-9064-42cf-ad7a-bb6b7f59d6b9",
   "metadata": {},
   "source": [
    "# Using matrices to find the regression model"
   ]
  },
  {
   "cell_type": "markdown",
   "id": "39f2b719-5449-4f4b-9ec0-a78821eb2511",
   "metadata": {},
   "source": [
    "Making a dataframe to be able to use it in a statsmodel OLS model"
   ]
  },
  {
   "cell_type": "code",
   "execution_count": 984,
   "id": "176bae3a-74b5-4df0-84a9-e2f025f4a26d",
   "metadata": {},
   "outputs": [
    {
     "data": {
      "text/html": [
       "<div>\n",
       "<style scoped>\n",
       "    .dataframe tbody tr th:only-of-type {\n",
       "        vertical-align: middle;\n",
       "    }\n",
       "\n",
       "    .dataframe tbody tr th {\n",
       "        vertical-align: top;\n",
       "    }\n",
       "\n",
       "    .dataframe thead th {\n",
       "        text-align: right;\n",
       "    }\n",
       "</style>\n",
       "<table border=\"1\" class=\"dataframe\">\n",
       "  <thead>\n",
       "    <tr style=\"text-align: right;\">\n",
       "      <th></th>\n",
       "      <th>XB</th>\n",
       "      <th>YB</th>\n",
       "    </tr>\n",
       "  </thead>\n",
       "  <tbody>\n",
       "    <tr>\n",
       "      <th>0</th>\n",
       "      <td>16.1</td>\n",
       "      <td>36.7</td>\n",
       "    </tr>\n",
       "    <tr>\n",
       "      <th>1</th>\n",
       "      <td>18.2</td>\n",
       "      <td>37.1</td>\n",
       "    </tr>\n",
       "    <tr>\n",
       "      <th>2</th>\n",
       "      <td>19.3</td>\n",
       "      <td>37.7</td>\n",
       "    </tr>\n",
       "    <tr>\n",
       "      <th>3</th>\n",
       "      <td>20.4</td>\n",
       "      <td>42.1</td>\n",
       "    </tr>\n",
       "  </tbody>\n",
       "</table>\n",
       "</div>"
      ],
      "text/plain": [
       "     XB    YB\n",
       "0  16.1  36.7\n",
       "1  18.2  37.1\n",
       "2  19.3  37.7\n",
       "3  20.4  42.1"
      ]
     },
     "execution_count": 984,
     "metadata": {},
     "output_type": "execute_result"
    }
   ],
   "source": [
    "X_df=pd.DataFrame(XB,columns=[\"XB\"])\n",
    "X_df[\"YB\"]=YB.tolist()\n",
    "X_df"
   ]
  },
  {
   "cell_type": "code",
   "execution_count": 985,
   "id": "bc0488ec-5812-4ae9-a963-5b9b7f005f7e",
   "metadata": {},
   "outputs": [
    {
     "name": "stdout",
     "output_type": "stream",
     "text": [
      "                Results: Ordinary least squares\n",
      "================================================================\n",
      "Model:              OLS              Adj. R-squared:     0.447  \n",
      "Dependent Variable: YB               AIC:                17.5383\n",
      "Date:               2024-07-28 16:40 BIC:                16.3109\n",
      "No. Observations:   4                Log-Likelihood:     -6.7691\n",
      "Df Model:           1                F-statistic:        3.430  \n",
      "Df Residuals:       2                Prob (F-statistic): 0.205  \n",
      "R-squared:          0.632            Scale:              3.4551 \n",
      "-----------------------------------------------------------------\n",
      "              Coef.   Std.Err.    t     P>|t|    [0.025    0.975]\n",
      "-----------------------------------------------------------------\n",
      "Intercept    18.3614   10.8601  1.6907  0.2330  -28.3660  65.0888\n",
      "XB            1.0832    0.5849  1.8519  0.2052   -1.4334   3.5997\n",
      "----------------------------------------------------------------\n",
      "Omnibus:               nan         Durbin-Watson:          2.049\n",
      "Prob(Omnibus):         nan         Jarque-Bera (JB):       0.515\n",
      "Skew:                  0.042       Prob(JB):               0.773\n",
      "Kurtosis:              1.244       Condition No.:          218  \n",
      "================================================================\n",
      "Notes:\n",
      "[1] Standard Errors assume that the covariance matrix of the\n",
      "errors is correctly specified.\n"
     ]
    },
    {
     "name": "stderr",
     "output_type": "stream",
     "text": [
      "C:\\Users\\carol\\anaconda3\\Lib\\site-packages\\statsmodels\\stats\\stattools.py:74: ValueWarning: omni_normtest is not valid with less than 8 observations; 4 samples were given.\n",
      "  warn(\"omni_normtest is not valid with less than 8 observations; %i \"\n"
     ]
    }
   ],
   "source": [
    "from statsmodels.formula.api import ols\n",
    "\n",
    "model = ols(\"YB ~ XB\", data=X_df)\n",
    "results = model.fit()\n",
    "print(results.summary2())"
   ]
  },
  {
   "cell_type": "code",
   "execution_count": 893,
   "id": "e322686e-6245-4953-9cae-f6d43b8122b3",
   "metadata": {},
   "outputs": [
    {
     "data": {
      "text/plain": [
       "<matplotlib.lines.Line2D at 0x28bed2a6090>"
      ]
     },
     "execution_count": 893,
     "metadata": {},
     "output_type": "execute_result"
    },
    {
     "data": {
      "image/png": "[encoded data removed]",
      "text/plain": [
       "<Figure size 640x480 with 1 Axes>"
      ]
     },
     "metadata": {},
     "output_type": "display_data"
    }
   ],
   "source": [
    "import seaborn as sns\n",
    "plotX=sns.regplot(x='XB',y='YB',data=X_df,ci=None)\n",
    "plotX.axvline(x=np.mean(XB),c=\"r\",linestyle=\":\")\n",
    "plotX.axhline(y=np.mean(YB),c=\"r\",linestyle=\":\")"
   ]
  },
  {
   "cell_type": "code",
   "execution_count": 986,
   "id": "4d67f4aa-5ab6-42d2-9a79-84ef6f968157",
   "metadata": {},
   "outputs": [
    {
     "data": {
      "text/plain": [
       "18.36080000000001"
      ]
     },
     "execution_count": 986,
     "metadata": {},
     "output_type": "execute_result"
    }
   ],
   "source": [
    "# y-intercept\n",
    "np.mean(YB) - 1.0832 * np.mean(XB)"
   ]
  },
  {
   "cell_type": "code",
   "execution_count": 895,
   "id": "57bfeaba-cec8-4357-8de3-5f078c6d295f",
   "metadata": {},
   "outputs": [
    {
     "data": {
      "text/plain": [
       "<matplotlib.lines.Line2D at 0x28bed453790>"
      ]
     },
     "execution_count": 895,
     "metadata": {},
     "output_type": "execute_result"
    },
    {
     "data": {
      "image/png": "[encoded data removed]",
      "text/plain": [
       "<Figure size 640x480 with 1 Axes>"
      ]
     },
     "metadata": {},
     "output_type": "display_data"
    }
   ],
   "source": [
    "plotX=sns.regplot(x='XB',y='YB',data=X_df,ci=None)\n",
    "plotX.set_xlim(-5,22)\n",
    "plotX.set_ylim(15,42)\n",
    "plotX.axvline(x=np.mean(XB),c=\"r\",linestyle=\":\")\n",
    "plotX.axhline(y=np.mean(YB),c=\"r\",linestyle=\":\")"
   ]
  },
  {
   "cell_type": "markdown",
   "id": "cbe92afd-baca-4d32-acba-79700b126fd1",
   "metadata": {},
   "source": [
    "# OLS regression and matrix formulation"
   ]
  },
  {
   "cell_type": "markdown",
   "id": "e94f4120-340e-4a97-a9cf-1193c919ca34",
   "metadata": {},
   "source": [
    "Use either the mean centered or the raw data to see the effect on the matrices\n",
    "\n",
    "using the normal equations in matrix form:\n",
    "\n",
    "$$\r\n",
    "\\hat{\\boldsymbol{\\beta}}=\\left(\\mathbf{X}^{\\top} \\mathbf{X}\\right)^{-1} \\mathbf{X}^{\\top} \\mathbf{y}\r\n",
    "$$"
   ]
  },
  {
   "cell_type": "code",
   "execution_count": 1002,
   "id": "2d6557ab-2031-49ed-b141-bb96bb466052",
   "metadata": {},
   "outputs": [],
   "source": [
    "X=[-2.4,-0.3,0.8,1.9]\n",
    "Y=[-1.7,-1.3,-0.7,3.7]"
   ]
  },
  {
   "cell_type": "code",
   "execution_count": 988,
   "id": "131af717-a2c6-49d7-b34b-d26a054e9190",
   "metadata": {},
   "outputs": [],
   "source": [
    "#X=np.array([16.1,18.2,19.3,20.4])\n",
    "#Y=np.array([36.7,37.1,37.7,42.1])"
   ]
  },
  {
   "cell_type": "code",
   "execution_count": 1003,
   "id": "a2402cc1-76d9-4d10-a4ad-0c821f448a49",
   "metadata": {},
   "outputs": [
    {
     "data": {
      "text/plain": [
       "array([-2.4, -0.3,  0.8,  1.9])"
      ]
     },
     "execution_count": 1003,
     "metadata": {},
     "output_type": "execute_result"
    }
   ],
   "source": [
    "# mean centered data or raw data\n",
    "X=np.asarray(X)\n",
    "X"
   ]
  },
  {
   "cell_type": "code",
   "execution_count": 1004,
   "id": "dcde9c78-4dfe-43fb-816c-b64b3311a93e",
   "metadata": {},
   "outputs": [
    {
     "data": {
      "text/plain": [
       "(4,)"
      ]
     },
     "execution_count": 1004,
     "metadata": {},
     "output_type": "execute_result"
    }
   ],
   "source": [
    "Y=np.asarray(Y)\n",
    "X.shape"
   ]
  },
  {
   "cell_type": "code",
   "execution_count": 1005,
   "id": "5ee0dbb1-6c55-420d-a1c1-9a4e3f8d5c12",
   "metadata": {},
   "outputs": [
    {
     "data": {
      "text/plain": [
       "array([-1.7, -1.3, -0.7,  3.7])"
      ]
     },
     "execution_count": 1005,
     "metadata": {},
     "output_type": "execute_result"
    }
   ],
   "source": [
    "Y"
   ]
  },
  {
   "cell_type": "code",
   "execution_count": 1006,
   "id": "1692941b-23d7-49d2-97b8-354d976c918c",
   "metadata": {},
   "outputs": [
    {
     "data": {
      "text/plain": [
       "array([[1.],\n",
       "       [1.],\n",
       "       [1.],\n",
       "       [1.]])"
      ]
     },
     "execution_count": 1006,
     "metadata": {},
     "output_type": "execute_result"
    }
   ],
   "source": [
    "# add a column of 1's, this will allow for the intercept term as a constant term\n",
    "X_bias=np.ones((4,1)) # m is the number of records in the dataset\n",
    "X_bias"
   ]
  },
  {
   "cell_type": "code",
   "execution_count": 1007,
   "id": "62e4901f-70aa-4b7b-9dc0-e862aad22cba",
   "metadata": {},
   "outputs": [
    {
     "data": {
      "text/plain": [
       "array([[-2.4],\n",
       "       [-0.3],\n",
       "       [ 0.8],\n",
       "       [ 1.9]])"
      ]
     },
     "execution_count": 1007,
     "metadata": {},
     "output_type": "execute_result"
    }
   ],
   "source": [
    "X=np.reshape(X,(4,1))\n",
    "Y=np.reshape(Y,(4,1))\n",
    "X"
   ]
  },
  {
   "cell_type": "code",
   "execution_count": 1008,
   "id": "e82ba695-8ee0-4d6d-9945-12f3b23ed449",
   "metadata": {},
   "outputs": [
    {
     "data": {
      "text/plain": [
       "array([[ 1. , -2.4],\n",
       "       [ 1. , -0.3],\n",
       "       [ 1. ,  0.8],\n",
       "       [ 1. ,  1.9]])"
      ]
     },
     "execution_count": 1008,
     "metadata": {},
     "output_type": "execute_result"
    }
   ],
   "source": [
    "# This is the Design Matrix\n",
    "newX=np.append(X_bias,X,axis=1)\n",
    "newX"
   ]
  },
  {
   "cell_type": "code",
   "execution_count": 1016,
   "id": "edb36bef-5779-4046-b4b3-001e13a56172",
   "metadata": {},
   "outputs": [
    {
     "data": {
      "text/plain": [
       "array([[ 1. ,  1. ,  1. ,  1. ],\n",
       "       [-2.4, -0.3,  0.8,  1.9]])"
      ]
     },
     "execution_count": 1016,
     "metadata": {},
     "output_type": "execute_result"
    }
   ],
   "source": [
    "X_transpose=np.transpose(newX)\n",
    "X_transpose"
   ]
  },
  {
   "cell_type": "code",
   "execution_count": 1017,
   "id": "149ef608-a590-473c-872f-53f2f609e68e",
   "metadata": {},
   "outputs": [
    {
     "data": {
      "text/plain": [
       "(2, 4)"
      ]
     },
     "execution_count": 1017,
     "metadata": {},
     "output_type": "execute_result"
    }
   ],
   "source": [
    "X_transpose.shape"
   ]
  },
  {
   "cell_type": "code",
   "execution_count": 1018,
   "id": "f94f3353-2a10-4e50-b07d-fe7aa8a741c4",
   "metadata": {},
   "outputs": [
    {
     "data": {
      "text/plain": [
       "array([[4.00000000e+00, 2.22044605e-16],\n",
       "       [2.22044605e-16, 1.01000000e+01]])"
      ]
     },
     "execution_count": 1018,
     "metadata": {},
     "output_type": "execute_result"
    }
   ],
   "source": [
    "# Now we will multiply Xt and X\n",
    "# This provides a SumX and a SSX, keeping track of the SS of your predictors\n",
    "# when mean centered, you have a diagonal matrix\n",
    "XtX=((X_transpose.dot(newX)))\n",
    "XtX"
   ]
  },
  {
   "cell_type": "markdown",
   "id": "2ff04934-be1e-4e50-9110-2d0afb9eb306",
   "metadata": {},
   "source": [
    "$$\n",
    "\\begin{array}{|l|l|l|}\n",
    "\\hline \\mathrm{X} \\mathrm{t} \\mathrm{X}= & \\mathrm{n} & \\Sigma x \\\\\n",
    "\\hline & \\Sigma x & \\Sigma x^2 \\\\\n",
    "\\hline\n",
    "\\end{array}\n",
    "$$"
   ]
  },
  {
   "cell_type": "code",
   "execution_count": 1019,
   "id": "adbb024d-6192-4518-bc6c-7b7fd19a0bd9",
   "metadata": {},
   "outputs": [
    {
     "data": {
      "text/plain": [
       "2.220446049250313e-16"
      ]
     },
     "execution_count": 1019,
     "metadata": {},
     "output_type": "execute_result"
    }
   ],
   "source": [
    "# SumX\n",
    "np.sum(X)"
   ]
  },
  {
   "cell_type": "code",
   "execution_count": 1020,
   "id": "082ac51f-255b-4023-a5e7-231342555484",
   "metadata": {},
   "outputs": [
    {
     "data": {
      "text/plain": [
       "10.1"
      ]
     },
     "execution_count": 1020,
     "metadata": {},
     "output_type": "execute_result"
    }
   ],
   "source": [
    "# SSX\n",
    "np.sum(np.square(X))"
   ]
  },
  {
   "cell_type": "code",
   "execution_count": 1021,
   "id": "05c622ff-e1e0-4f48-ab89-99b07ffc0fc4",
   "metadata": {},
   "outputs": [
    {
     "data": {
      "text/plain": [
       "array([[ 2.50000000e-01, -5.49615359e-18],\n",
       "       [-5.49615359e-18,  9.90099010e-02]])"
      ]
     },
     "execution_count": 1021,
     "metadata": {},
     "output_type": "execute_result"
    }
   ],
   "source": [
    "XtX_Inverse=np.linalg.inv(XtX)\n",
    "XtX_Inverse"
   ]
  },
  {
   "cell_type": "code",
   "execution_count": 1022,
   "id": "adf6da30-7ccb-4482-ad0b-8d68639ae94e",
   "metadata": {},
   "outputs": [
    {
     "data": {
      "text/plain": [
       "array([[ 0.  ],\n",
       "       [10.94]])"
      ]
     },
     "execution_count": 1022,
     "metadata": {},
     "output_type": "execute_result"
    }
   ],
   "source": [
    "XtY=((X_transpose.dot(Y)))\n",
    "XtY"
   ]
  },
  {
   "cell_type": "markdown",
   "id": "44d34998-6134-467f-b65b-dd0169a189c4",
   "metadata": {},
   "source": [
    "$$\r\n",
    "\\begin{array}{|l|l|}\r\n",
    "\\hline \\mathrm{Xt} \\mathrm{Y}= & \\Sigma y \\\\\r\n",
    "\\hline & \\Sigma x \\mathrm{y} \\\\\r\n",
    "\\hline\r\n",
    "\\end{array}\r\n",
    "$$"
   ]
  },
  {
   "cell_type": "code",
   "execution_count": 1023,
   "id": "8d9b11b3-a949-4cd9-9c72-9547cfd656c1",
   "metadata": {},
   "outputs": [
    {
     "data": {
      "text/plain": [
       "array([[-6.01279202e-17],\n",
       "       [ 1.08316832e+00]])"
      ]
     },
     "execution_count": 1023,
     "metadata": {},
     "output_type": "execute_result"
    }
   ],
   "source": [
    "# This is the beta or coefficient matrix \n",
    "XtX_Inverse.dot(XtY)"
   ]
  },
  {
   "cell_type": "code",
   "execution_count": 917,
   "id": "b8af4011-b560-4a7b-963f-489e7bad3bac",
   "metadata": {},
   "outputs": [
    {
     "data": {
      "text/html": [
       "<div>\n",
       "<style scoped>\n",
       "    .dataframe tbody tr th:only-of-type {\n",
       "        vertical-align: middle;\n",
       "    }\n",
       "\n",
       "    .dataframe tbody tr th {\n",
       "        vertical-align: top;\n",
       "    }\n",
       "\n",
       "    .dataframe thead th {\n",
       "        text-align: right;\n",
       "    }\n",
       "</style>\n",
       "<table border=\"1\" class=\"dataframe\">\n",
       "  <thead>\n",
       "    <tr style=\"text-align: right;\">\n",
       "      <th></th>\n",
       "      <th>X</th>\n",
       "      <th>Y</th>\n",
       "    </tr>\n",
       "  </thead>\n",
       "  <tbody>\n",
       "    <tr>\n",
       "      <th>0</th>\n",
       "      <td>16.1</td>\n",
       "      <td>36.7</td>\n",
       "    </tr>\n",
       "    <tr>\n",
       "      <th>1</th>\n",
       "      <td>18.2</td>\n",
       "      <td>37.1</td>\n",
       "    </tr>\n",
       "    <tr>\n",
       "      <th>2</th>\n",
       "      <td>19.3</td>\n",
       "      <td>37.7</td>\n",
       "    </tr>\n",
       "    <tr>\n",
       "      <th>3</th>\n",
       "      <td>20.4</td>\n",
       "      <td>42.1</td>\n",
       "    </tr>\n",
       "  </tbody>\n",
       "</table>\n",
       "</div>"
      ],
      "text/plain": [
       "      X     Y\n",
       "0  16.1  36.7\n",
       "1  18.2  37.1\n",
       "2  19.3  37.7\n",
       "3  20.4  42.1"
      ]
     },
     "execution_count": 917,
     "metadata": {},
     "output_type": "execute_result"
    }
   ],
   "source": [
    "# check with statsmodel\n",
    "\n",
    "# use either the mean centered data or the raw data to see the effect on the y-intercept\n",
    "\n",
    "X=np.array([16.1,18.2,19.3,20.4])\n",
    "Y=np.array([36.7,37.1,37.7,42.1])\n",
    "X_dfA=pd.DataFrame(X,columns=[\"X\"])\n",
    "X_dfA[\"Y\"]=Y.tolist()\n",
    "X_dfA"
   ]
  },
  {
   "cell_type": "code",
   "execution_count": 1024,
   "id": "2d47f627-bfb0-4ff0-b9af-157c5a809654",
   "metadata": {},
   "outputs": [
    {
     "data": {
      "text/html": [
       "<div>\n",
       "<style scoped>\n",
       "    .dataframe tbody tr th:only-of-type {\n",
       "        vertical-align: middle;\n",
       "    }\n",
       "\n",
       "    .dataframe tbody tr th {\n",
       "        vertical-align: top;\n",
       "    }\n",
       "\n",
       "    .dataframe thead th {\n",
       "        text-align: right;\n",
       "    }\n",
       "</style>\n",
       "<table border=\"1\" class=\"dataframe\">\n",
       "  <thead>\n",
       "    <tr style=\"text-align: right;\">\n",
       "      <th></th>\n",
       "      <th>X</th>\n",
       "      <th>Y</th>\n",
       "    </tr>\n",
       "  </thead>\n",
       "  <tbody>\n",
       "    <tr>\n",
       "      <th>0</th>\n",
       "      <td>-2.4</td>\n",
       "      <td>-1.7</td>\n",
       "    </tr>\n",
       "    <tr>\n",
       "      <th>1</th>\n",
       "      <td>-0.3</td>\n",
       "      <td>-1.3</td>\n",
       "    </tr>\n",
       "    <tr>\n",
       "      <th>2</th>\n",
       "      <td>0.8</td>\n",
       "      <td>-0.7</td>\n",
       "    </tr>\n",
       "    <tr>\n",
       "      <th>3</th>\n",
       "      <td>1.9</td>\n",
       "      <td>3.7</td>\n",
       "    </tr>\n",
       "  </tbody>\n",
       "</table>\n",
       "</div>"
      ],
      "text/plain": [
       "     X    Y\n",
       "0 -2.4 -1.7\n",
       "1 -0.3 -1.3\n",
       "2  0.8 -0.7\n",
       "3  1.9  3.7"
      ]
     },
     "execution_count": 1024,
     "metadata": {},
     "output_type": "execute_result"
    }
   ],
   "source": [
    "X=np.array([-2.4,-0.3,0.8,1.9])\n",
    "Y=np.array([-1.7,-1.3,-0.7,3.7])\n",
    "X_dfA=pd.DataFrame(X,columns=[\"X\"])\n",
    "X_dfA[\"Y\"]=Y.tolist()\n",
    "X_dfA"
   ]
  },
  {
   "cell_type": "code",
   "execution_count": 1025,
   "id": "0088664c-39f1-4996-8540-e135c15c063b",
   "metadata": {},
   "outputs": [
    {
     "name": "stdout",
     "output_type": "stream",
     "text": [
      "                Results: Ordinary least squares\n",
      "================================================================\n",
      "Model:              OLS              Adj. R-squared:     0.447  \n",
      "Dependent Variable: Y                AIC:                17.5383\n",
      "Date:               2024-07-28 16:59 BIC:                16.3109\n",
      "No. Observations:   4                Log-Likelihood:     -6.7691\n",
      "Df Model:           1                F-statistic:        3.430  \n",
      "Df Residuals:       2                Prob (F-statistic): 0.205  \n",
      "R-squared:          0.632            Scale:              3.4551 \n",
      "------------------------------------------------------------------\n",
      "            Coef.    Std.Err.     t      P>|t|     [0.025   0.975]\n",
      "------------------------------------------------------------------\n",
      "Intercept   0.0000     0.9294   0.0000   1.0000   -3.9988   3.9988\n",
      "X           1.0832     0.5849   1.8519   0.2052   -1.4334   3.5997\n",
      "----------------------------------------------------------------\n",
      "Omnibus:               nan         Durbin-Watson:          2.049\n",
      "Prob(Omnibus):         nan         Jarque-Bera (JB):       0.515\n",
      "Skew:                  0.042       Prob(JB):               0.773\n",
      "Kurtosis:              1.244       Condition No.:          2    \n",
      "================================================================\n",
      "Notes:\n",
      "[1] Standard Errors assume that the covariance matrix of the\n",
      "errors is correctly specified.\n"
     ]
    },
    {
     "name": "stderr",
     "output_type": "stream",
     "text": [
      "C:\\Users\\carol\\anaconda3\\Lib\\site-packages\\statsmodels\\stats\\stattools.py:74: ValueWarning: omni_normtest is not valid with less than 8 observations; 4 samples were given.\n",
      "  warn(\"omni_normtest is not valid with less than 8 observations; %i \"\n"
     ]
    }
   ],
   "source": [
    "from statsmodels.formula.api import ols\n",
    "\n",
    "model2=ols('Y~X',data=X_dfA)\n",
    "results2=model2.fit()\n",
    "print(results2.summary2())"
   ]
  },
  {
   "cell_type": "code",
   "execution_count": 1026,
   "id": "a0771e96-2322-4ba6-9697-c02b7d563d43",
   "metadata": {},
   "outputs": [
    {
     "name": "stdout",
     "output_type": "stream",
     "text": [
      "           df     sum_sq    mean_sq         F    PR(>F)\n",
      "X         1.0  11.849861  11.849861  3.429703  0.205232\n",
      "Residual  2.0   6.910139   3.455069       NaN       NaN\n"
     ]
    }
   ],
   "source": [
    "from statsmodels.stats.anova import anova_lm\n",
    "anova_results2 = anova_lm(results2)\n",
    "print(anova_results2)"
   ]
  },
  {
   "cell_type": "code",
   "execution_count": 1038,
   "id": "b8de6a51-ee1d-4627-9974-7d2c4c879d84",
   "metadata": {},
   "outputs": [
    {
     "data": {
      "text/plain": [
       "array([-2.59968, -0.32496,  0.86656,  2.05808])"
      ]
     },
     "execution_count": 1038,
     "metadata": {},
     "output_type": "execute_result"
    }
   ],
   "source": [
    "# find the mean square error\n",
    "\n",
    "# here are the predicted values\n",
    "# if using raw data the y hat = 18.3614+1.0832*X\n",
    "\n",
    "y_hat=1.0832*X\n",
    "y_hat"
   ]
  },
  {
   "cell_type": "code",
   "execution_count": 1039,
   "id": "51bf5485-54c5-4e97-87f8-549ae2417471",
   "metadata": {},
   "outputs": [
    {
     "data": {
      "text/plain": [
       "0   -2.599604\n",
       "1   -0.324950\n",
       "2    0.866535\n",
       "3    2.058020\n",
       "dtype: float64"
      ]
     },
     "execution_count": 1039,
     "metadata": {},
     "output_type": "execute_result"
    }
   ],
   "source": [
    "# These predicted (or fitted) values can be found using the fittedvalues call of the results2 object\n",
    "results2.fittedvalues"
   ]
  },
  {
   "cell_type": "code",
   "execution_count": 1040,
   "id": "6766e60a-b69b-4874-bcbc-e80ec20a4a44",
   "metadata": {},
   "outputs": [
    {
     "data": {
      "text/plain": [
       "array([ 0.89968, -0.97504, -1.56656,  1.64192])"
      ]
     },
     "execution_count": 1040,
     "metadata": {},
     "output_type": "execute_result"
    }
   ],
   "source": [
    "# find errors (or residuals)\n",
    "errors= Y-y_hat\n",
    "errors"
   ]
  },
  {
   "cell_type": "code",
   "execution_count": 1041,
   "id": "bd0fa831-888b-47e6-8542-d50a5fc9460b",
   "metadata": {},
   "outputs": [
    {
     "data": {
      "text/plain": [
       "0    0.899604\n",
       "1   -0.975050\n",
       "2   -1.566535\n",
       "3    1.641980\n",
       "dtype: float64"
      ]
     },
     "execution_count": 1041,
     "metadata": {},
     "output_type": "execute_result"
    }
   ],
   "source": [
    "# These errors can be found using the resid call of the results2 object\n",
    "results2.resid"
   ]
  },
  {
   "cell_type": "code",
   "execution_count": 1042,
   "id": "23c28a5d-8b6a-4d24-8397-00fcdd9c8e87",
   "metadata": {},
   "outputs": [
    {
     "data": {
      "text/plain": [
       "6.910138624000001"
      ]
     },
     "execution_count": 1042,
     "metadata": {},
     "output_type": "execute_result"
    }
   ],
   "source": [
    "# sum of the squares of the errors\n",
    "np.sum(np.square(errors))"
   ]
  },
  {
   "cell_type": "code",
   "execution_count": 1043,
   "id": "7fc8de88-7883-4605-931a-0d9678b09898",
   "metadata": {},
   "outputs": [
    {
     "data": {
      "text/plain": [
       "6.9101386138613865"
      ]
     },
     "execution_count": 1043,
     "metadata": {},
     "output_type": "execute_result"
    }
   ],
   "source": [
    "# can call the sum of squares of the residuals to find SSRes (SSError)\n",
    "results2.ssr"
   ]
  },
  {
   "cell_type": "code",
   "execution_count": 1044,
   "id": "433ef362-43e4-41d4-8d45-49ec8ba1160b",
   "metadata": {},
   "outputs": [
    {
     "data": {
      "text/plain": [
       "3.4550693120000004"
      ]
     },
     "execution_count": 1044,
     "metadata": {},
     "output_type": "execute_result"
    }
   ],
   "source": [
    "# MSE is the sum of the squares of the error divided by the dof\n",
    "# dof = (n-k-1) = (sample size - number of predictors -1) \n",
    "#  = 4-1-1 = 2\n",
    "(np.sum(np.square(errors))) / 2"
   ]
  },
  {
   "cell_type": "code",
   "execution_count": 1045,
   "id": "62802d3d-966e-4d59-8eb8-c49ff4ede755",
   "metadata": {},
   "outputs": [
    {
     "data": {
      "text/plain": [
       "3.4550693069306933"
      ]
     },
     "execution_count": 1045,
     "metadata": {},
     "output_type": "execute_result"
    }
   ],
   "source": [
    "results2.ssr/2"
   ]
  },
  {
   "cell_type": "code",
   "execution_count": 1046,
   "id": "c4473317-d2f2-4083-a535-fb95aa586dc2",
   "metadata": {},
   "outputs": [
    {
     "data": {
      "text/plain": [
       "1.8587816727444602"
      ]
     },
     "execution_count": 1046,
     "metadata": {},
     "output_type": "execute_result"
    }
   ],
   "source": [
    "# square root of the MSE is the residual standard error\n",
    "np.sqrt(results2.ssr/2)"
   ]
  },
  {
   "cell_type": "markdown",
   "id": "33d37296-5fde-4667-b44c-04fc50b2a7e8",
   "metadata": {},
   "source": [
    "The standard error of the beta coefficient is equal to the square root (of the sum of squares of the predictor X * the MSE)"
   ]
  },
  {
   "cell_type": "code",
   "execution_count": 1047,
   "id": "f70a62cf-e103-4d5b-b098-b5d3be405579",
   "metadata": {},
   "outputs": [
    {
     "data": {
      "text/plain": [
       "0.584881244350627"
      ]
     },
     "execution_count": 1047,
     "metadata": {},
     "output_type": "execute_result"
    }
   ],
   "source": [
    "np.sqrt((results2.ssr/2) / 10.1)"
   ]
  },
  {
   "cell_type": "markdown",
   "id": "bcd92a61-7e15-449c-8907-337fb01faa5f",
   "metadata": {},
   "source": [
    "The standard error of the beta coefficient is equal to the square root (of the diagonal of the inverse of the XtX matrix * the square of the standard error of the regression (which is the mean squared error or the scale))."
   ]
  },
  {
   "cell_type": "code",
   "execution_count": 1048,
   "id": "9d7c0b6d-f627-467c-877c-af5a0c151e29",
   "metadata": {},
   "outputs": [
    {
     "data": {
      "text/plain": [
       "0.5848545973145804"
      ]
     },
     "execution_count": 1048,
     "metadata": {},
     "output_type": "execute_result"
    }
   ],
   "source": [
    "# standard error of beta: use the inverse of the XtX matrix\n",
    "np.sqrt(3.4551*0.0990)"
   ]
  },
  {
   "cell_type": "code",
   "execution_count": 1049,
   "id": "152f4c0e-698d-4718-a124-22a38784e794",
   "metadata": {},
   "outputs": [
    {
     "data": {
      "text/plain": [
       "0.5848838422378336"
      ]
     },
     "execution_count": 1049,
     "metadata": {},
     "output_type": "execute_result"
    }
   ],
   "source": [
    "#since this is SLR and using mean centered data, we can be much easier and divide by the SSx \n",
    "np.sqrt(3.4551/10.10)"
   ]
  },
  {
   "cell_type": "code",
   "execution_count": 1050,
   "id": "25e741d8-d9ba-4171-9537-90f944b44d7f",
   "metadata": {},
   "outputs": [
    {
     "data": {
      "text/plain": [
       "0.09900990099009901"
      ]
     },
     "execution_count": 1050,
     "metadata": {},
     "output_type": "execute_result"
    }
   ],
   "source": [
    "1/10.10"
   ]
  },
  {
   "cell_type": "markdown",
   "id": "52d67558-7d8c-4657-892f-e038f64ee1d9",
   "metadata": {},
   "source": [
    "Remember about the sError: The standard error of the regression (=standard error of the estimate =residual standard error) is the model estimate that is analogous to the standard deviation of a sample. It represents the average distance that the observed values fall from the regression line and is a measure of the precision of the model. \n",
    "\n",
    "* The standard error of the regression is equal to the square root of (the sum of the squares of the residual divided by the dof of the residuals) = square root of the MSE.  \n",
    "\n",
    "To find the standard error of the beta coefficient, we find the sqrt(MSE divided by the sum of squares of the predictor x). \n",
    "\n",
    "* This is the same as the standard error of the regression ( = sqrt(SSE/(n-2)) ) divided by ( (the standard deviation of the x sample multiplied by the sqrt(n-1) ) or ( = sqrt(SSx/(n-1)) * sqrt(n-1) ) ) \n",
    "\n",
    "* The diagonal of the XtX matrix is the sum of squares of x, which we can divide by dof to get the sample variance of x. Square root of the sample variance is the sample std.\n",
    "\n",
    "* This diagonal of the XtX matrix will provide the sum of squares for the x variables.  Since this is a simple linear regression example using mean centered data, we can divide by this value directly to find the SE(beta).  This is the same as multiplying by (1/SSx).\n",
    "\n",
    "* In multiple linear regression, we will not be able to divide like this (you cant divide by a matrix) but you can multiple by the inverse of a matrix.  This is why we will look to matrix math to help in keeping track of the sum of squares for the x variables and have a matrix that holds the inverse of these.  \n",
    "\n",
    "* The inverse of the XtX matrix provides a bookkeeping of the linear association of the predictors.  For MLR this is important.\n",
    "\n",
    "* When the design matrix X is a real matrix, the elements of the inverse of (  XtX  ) provide a measure of the extent of linear dependence among the columns of  X. We will use this to explore MLR."
   ]
  },
  {
   "cell_type": "code",
   "execution_count": null,
   "id": "d126e5b5-c318-49ed-abfb-10f8583623d0",
   "metadata": {},
   "outputs": [],
   "source": []
  }
 ],
 "metadata": {
  "kernelspec": {
   "display_name": "Python 3 (ipykernel)",
   "language": "python",
   "name": "python3"
  },
  "language_info": {
   "codemirror_mode": {
    "name": "ipython",
    "version": 3
   },
   "file_extension": ".py",
   "mimetype": "text/x-python",
   "name": "python",
   "nbconvert_exporter": "python",
   "pygments_lexer": "ipython3",
   "version": "3.11.8"
  }
 },
 "nbformat": 4,
 "nbformat_minor": 5
}
