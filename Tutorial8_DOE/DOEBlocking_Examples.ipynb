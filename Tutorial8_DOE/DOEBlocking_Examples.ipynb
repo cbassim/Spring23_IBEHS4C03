{
 "cells": [
  {
   "cell_type": "code",
   "execution_count": 1,
   "id": "5fd24d9b-fcc1-417c-8466-7e560401e936",
   "metadata": {},
   "outputs": [
    {
     "name": "stdin",
     "output_type": "stream",
     "text": [
      "Once deleted, variables cannot be recovered. Proceed (y/[n])?  y\n"
     ]
    }
   ],
   "source": [
    "%reset"
   ]
  },
  {
   "cell_type": "code",
   "execution_count": 2,
   "id": "8f1448b2-696c-4ef6-917c-04edfde852de",
   "metadata": {},
   "outputs": [],
   "source": [
    "import numpy as np\n",
    "import pandas as pd\n",
    "from matplotlib import pyplot as plt\n",
    "import seaborn as sns"
   ]
  },
  {
   "cell_type": "code",
   "execution_count": 3,
   "id": "78778368-1f1d-412d-892d-82160d003fa5",
   "metadata": {},
   "outputs": [],
   "source": [
    "from statsmodels.formula.api import ols\n",
    "import statsmodels.api as sm"
   ]
  },
  {
   "cell_type": "code",
   "execution_count": 14,
   "id": "52c3e370-62bd-4a66-b565-0b75f9076f94",
   "metadata": {},
   "outputs": [],
   "source": [
    "# Single Replicate of the 2^4 design\n",
    "A=pd.Series([-1,1,-1,1,-1,+1,-1,+1,-1,1,-1,1,-1,1,-1,1],name=\"Temp\")\n",
    "B=pd.Series([-1,-1,1,1,-1,-1,1,1,-1,-1,1,1,-1,-1,1,1], name='Pressure')\n",
    "C=pd.Series([-1,-1,-1,-1,1,1,1,1,-1,-1,-1,-1,1,1,1,1],name='Conc')\n",
    "D=pd.Series([-1,-1,-1,-1,-1,-1,-1,-1,1,1,1,1,1,1,1,1],name=\"Stirring\")\n",
    "OC=pd.Series([45,71,48,65,68,60,80,65,43,100,45,104,75,86,70,96],name=\"Filtration\")"
   ]
  },
  {
   "cell_type": "code",
   "execution_count": 9,
   "id": "1b388b5e-41f3-4696-a5c7-bf1ef0433ac2",
   "metadata": {},
   "outputs": [
    {
     "name": "stdout",
     "output_type": "stream",
     "text": [
      "    Temp  Pressure  Conc  Stirring  Filtration\n",
      "0     -1        -1    -1        -1          45\n",
      "1      1        -1    -1        -1          71\n",
      "2     -1         1    -1        -1          48\n",
      "3      1         1    -1        -1          65\n",
      "4     -1        -1     1        -1          68\n",
      "5      1        -1     1        -1          60\n",
      "6     -1         1     1        -1          80\n",
      "7      1         1     1        -1          65\n",
      "8     -1        -1    -1         1          43\n",
      "9      1        -1    -1         1         100\n",
      "10    -1         1    -1         1          45\n",
      "11     1         1    -1         1         104\n",
      "12    -1        -1     1         1          75\n",
      "13     1        -1     1         1          86\n",
      "14    -1         1     1         1          70\n",
      "15     1         1     1         1          96\n"
     ]
    }
   ],
   "source": [
    "DFA=pd.concat([A,B,C,D,OC],axis='columns')\n",
    "print(DFA)"
   ]
  },
  {
   "cell_type": "code",
   "execution_count": 10,
   "id": "5d0068ca-b665-4d3a-803b-71166940d999",
   "metadata": {},
   "outputs": [
    {
     "name": "stdout",
     "output_type": "stream",
     "text": [
      "                 Results: Ordinary least squares\n",
      "==================================================================\n",
      "Model:              OLS              Adj. R-squared:     nan      \n",
      "Dependent Variable: OC               AIC:                -907.9467\n",
      "Date:               2022-11-30 11:03 BIC:                -895.5852\n",
      "No. Observations:   16               Log-Likelihood:     469.97   \n",
      "Df Model:           15               F-statistic:        nan      \n",
      "Df Residuals:       0                Prob (F-statistic): nan      \n",
      "R-squared:          1.000            Scale:              inf      \n",
      "--------------------------------------------------------------------\n",
      "               Coef.    Std.Err.      t      P>|t|   [0.025   0.975]\n",
      "--------------------------------------------------------------------\n",
      "Intercept     70.0625        inf    0.0000     nan      nan      nan\n",
      "A             10.8125        inf    0.0000     nan      nan      nan\n",
      "B              1.5625        inf    0.0000     nan      nan      nan\n",
      "A:B            0.0625        inf    0.0000     nan      nan      nan\n",
      "C              4.9375        inf    0.0000     nan      nan      nan\n",
      "A:C           -9.0625        inf   -0.0000     nan      nan      nan\n",
      "B:C            1.1875        inf    0.0000     nan      nan      nan\n",
      "A:B:C          0.9375        inf    0.0000     nan      nan      nan\n",
      "D              7.3125        inf    0.0000     nan      nan      nan\n",
      "A:D            8.3125        inf    0.0000     nan      nan      nan\n",
      "B:D           -0.1875        inf   -0.0000     nan      nan      nan\n",
      "A:B:D          2.0625        inf    0.0000     nan      nan      nan\n",
      "C:D           -0.5625        inf   -0.0000     nan      nan      nan\n",
      "A:C:D         -0.8125        inf   -0.0000     nan      nan      nan\n",
      "B:C:D         -1.3125        inf   -0.0000     nan      nan      nan\n",
      "A:B:C:D        0.6875        inf    0.0000     nan      nan      nan\n",
      "------------------------------------------------------------------\n",
      "Omnibus:              2.493         Durbin-Watson:           1.063\n",
      "Prob(Omnibus):        0.287         Jarque-Bera (JB):        1.090\n",
      "Skew:                 -0.129        Prob(JB):                0.580\n",
      "Kurtosis:             1.748         Condition No.:           1    \n",
      "==================================================================\n",
      "\n"
     ]
    },
    {
     "name": "stderr",
     "output_type": "stream",
     "text": [
      "C:\\Users\\carol\\anaconda3\\lib\\site-packages\\scipy\\stats\\_stats_py.py:1769: UserWarning: kurtosistest only valid for n>=20 ... continuing anyway, n=16\n",
      "  warnings.warn(\"kurtosistest only valid for n>=20 ... continuing \"\n",
      "C:\\Users\\carol\\anaconda3\\lib\\site-packages\\statsmodels\\regression\\linear_model.py:1671: RuntimeWarning: divide by zero encountered in double_scalars\n",
      "  return np.dot(wresid, wresid) / self.df_resid\n",
      "C:\\Users\\carol\\anaconda3\\lib\\site-packages\\statsmodels\\base\\model.py:1512: RuntimeWarning: invalid value encountered in multiply\n",
      "  cov_p = self.normalized_cov_params * scale\n",
      "C:\\Users\\carol\\anaconda3\\lib\\site-packages\\statsmodels\\regression\\linear_model.py:1749: RuntimeWarning: divide by zero encountered in true_divide\n",
      "  return 1 - (np.divide(self.nobs - self.k_constant, self.df_resid)\n",
      "C:\\Users\\carol\\anaconda3\\lib\\site-packages\\statsmodels\\regression\\linear_model.py:1749: RuntimeWarning: invalid value encountered in double_scalars\n",
      "  return 1 - (np.divide(self.nobs - self.k_constant, self.df_resid)\n"
     ]
    }
   ],
   "source": [
    "from statsmodels.formula.api import ols\n",
    "import statsmodels.api as sm\n",
    "\n",
    "model1=ols('OC~A*B*C*D',data=DFA)\n",
    "results1=model1.fit()\n",
    "print(results1.summary2())"
   ]
  },
  {
   "cell_type": "code",
   "execution_count": 11,
   "id": "e3641fab-dcac-4656-b28e-1170f121ab6c",
   "metadata": {},
   "outputs": [
    {
     "name": "stdout",
     "output_type": "stream",
     "text": [
      "           df        sum_sq    mean_sq    F  PR(>F)\n",
      "A         1.0  1.870562e+03  1870.5625  0.0     NaN\n",
      "B         1.0  3.906250e+01    39.0625  0.0     NaN\n",
      "A:B       1.0  6.250000e-02     0.0625  0.0     NaN\n",
      "C         1.0  3.900625e+02   390.0625  0.0     NaN\n",
      "A:C       1.0  1.314062e+03  1314.0625  0.0     NaN\n",
      "B:C       1.0  2.256250e+01    22.5625  0.0     NaN\n",
      "A:B:C     1.0  1.406250e+01    14.0625  0.0     NaN\n",
      "D         1.0  8.555625e+02   855.5625  0.0     NaN\n",
      "A:D       1.0  1.105562e+03  1105.5625  0.0     NaN\n",
      "B:D       1.0  5.625000e-01     0.5625  0.0     NaN\n",
      "A:B:D     1.0  6.806250e+01    68.0625  0.0     NaN\n",
      "C:D       1.0  5.062500e+00     5.0625  0.0     NaN\n",
      "A:C:D     1.0  1.056250e+01    10.5625  0.0     NaN\n",
      "B:C:D     1.0  2.756250e+01    27.5625  0.0     NaN\n",
      "A:B:C:D   1.0  7.562500e+00     7.5625  0.0     NaN\n",
      "Residual  0.0  2.872716e-26        inf  NaN     NaN\n"
     ]
    },
    {
     "name": "stderr",
     "output_type": "stream",
     "text": [
      "C:\\Users\\carol\\anaconda3\\lib\\site-packages\\statsmodels\\stats\\anova.py:138: RuntimeWarning: divide by zero encountered in double_scalars\n",
      "  (model.ssr / model.df_resid))\n"
     ]
    }
   ],
   "source": [
    "from statsmodels.stats.anova import anova_lm\n",
    "anova_results1 = anova_lm(results1)\n",
    "print(anova_results1)"
   ]
  },
  {
   "cell_type": "code",
   "execution_count": 15,
   "id": "9311ca55-56e0-4352-9729-88e4adb29673",
   "metadata": {},
   "outputs": [
    {
     "name": "stdout",
     "output_type": "stream",
     "text": [
      "                 Results: Ordinary least squares\n",
      "=================================================================\n",
      "Model:              OLS              Adj. R-squared:     0.941   \n",
      "Dependent Variable: OC               AIC:                100.0874\n",
      "Date:               2022-11-30 11:18 BIC:                106.2681\n",
      "No. Observations:   16               Log-Likelihood:     -42.044 \n",
      "Df Model:           7                F-statistic:        35.35   \n",
      "Df Residuals:       8                Prob (F-statistic): 2.12e-05\n",
      "R-squared:          0.969            Scale:              22.438  \n",
      "------------------------------------------------------------------\n",
      "              Coef.   Std.Err.     t     P>|t|    [0.025    0.975]\n",
      "------------------------------------------------------------------\n",
      "Intercept    70.0625    1.1842  59.1641  0.0000   67.3317  72.7933\n",
      "A            10.8125    1.1842   9.1306  0.0000    8.0817  13.5433\n",
      "C             4.9375    1.1842   4.1695  0.0031    2.2067   7.6683\n",
      "A:C          -9.0625    1.1842  -7.6528  0.0001  -11.7933  -6.3317\n",
      "D             7.3125    1.1842   6.1750  0.0003    4.5817  10.0433\n",
      "A:D           8.3125    1.1842   7.0195  0.0001    5.5817  11.0433\n",
      "C:D          -0.5625    1.1842  -0.4750  0.6475   -3.2933   2.1683\n",
      "A:C:D        -0.8125    1.1842  -0.6861  0.5120   -3.5433   1.9183\n",
      "-----------------------------------------------------------------\n",
      "Omnibus:              0.522        Durbin-Watson:           1.620\n",
      "Prob(Omnibus):        0.770        Jarque-Bera (JB):        0.555\n",
      "Skew:                 0.000        Prob(JB):                0.758\n",
      "Kurtosis:             2.088        Condition No.:           1    \n",
      "=================================================================\n",
      "\n"
     ]
    },
    {
     "name": "stderr",
     "output_type": "stream",
     "text": [
      "C:\\Users\\carol\\anaconda3\\lib\\site-packages\\scipy\\stats\\_stats_py.py:1769: UserWarning: kurtosistest only valid for n>=20 ... continuing anyway, n=16\n",
      "  warnings.warn(\"kurtosistest only valid for n>=20 ... continuing \"\n"
     ]
    }
   ],
   "source": [
    "# Refit the model with A, C D\n",
    "model2=ols('OC~A*C*D',data=DFA)\n",
    "results2=model2.fit()\n",
    "print(results2.summary2())"
   ]
  },
  {
   "cell_type": "code",
   "execution_count": 17,
   "id": "66730ac1-9632-4645-922c-6cd175af90bc",
   "metadata": {},
   "outputs": [
    {
     "name": "stdout",
     "output_type": "stream",
     "text": [
      "           df     sum_sq    mean_sq          F    PR(>F)\n",
      "A         1.0  1870.5625  1870.5625  83.367688  0.000017\n",
      "C         1.0   390.0625   390.0625  17.384401  0.003124\n",
      "A:C       1.0  1314.0625  1314.0625  58.565460  0.000060\n",
      "D         1.0   855.5625   855.5625  38.130919  0.000267\n",
      "A:D       1.0  1105.5625  1105.5625  49.272981  0.000110\n",
      "C:D       1.0     5.0625     5.0625   0.225627  0.647483\n",
      "A:C:D     1.0    10.5625    10.5625   0.470752  0.512032\n",
      "Residual  8.0   179.5000    22.4375        NaN       NaN\n"
     ]
    }
   ],
   "source": [
    "anova_results2 = anova_lm(results2)\n",
    "print(anova_results2)"
   ]
  },
  {
   "cell_type": "code",
   "execution_count": null,
   "id": "9ad2a975-61a7-4e78-9488-387f863b8d2b",
   "metadata": {},
   "outputs": [],
   "source": []
  },
  {
   "cell_type": "markdown",
   "id": "bd41b793-0e69-48ed-829d-db1128ca01b4",
   "metadata": {},
   "source": [
    "# Randomized Block Design\n",
    "Ex. Confounding the 2^4 factorial design in 2 blocks\n",
    "\n",
    "Introduce a block effect where the raw material in one block (block A = +1) is of poorer quality and therefor results in a 20 unit reduction in coversion yield.  "
   ]
  },
  {
   "cell_type": "code",
   "execution_count": 18,
   "id": "e2afc2c7-648a-4f16-a598-782af52e47bd",
   "metadata": {},
   "outputs": [],
   "source": [
    "A=pd.Series([-1,1,-1,1,-1,+1,-1,+1,-1,1,-1,1,-1,1,-1,1],name=\"Temp\")\n",
    "B=pd.Series([-1,-1,1,1,-1,-1,1,1,-1,-1,1,1,-1,-1,1,1], name='Pressure')\n",
    "C=pd.Series([-1,-1,-1,-1,1,1,1,1,-1,-1,-1,-1,1,1,1,1],name='Conc')\n",
    "D=pd.Series([-1,-1,-1,-1,-1,-1,-1,-1,1,1,1,1,1,1,1,1],name=\"Stirring\")\n",
    "E=pd.Series([1,-1,-1,1,-1,1,1,-1,-1,1,1,-1,1,-1,-1,1],name='Block')\n",
    "OC=pd.Series([25,71,48,45,68,40,60,65,43,80,25,104,55,86,70,76],name=\"Filtration\")"
   ]
  },
  {
   "cell_type": "code",
   "execution_count": 19,
   "id": "5581e967-ec4d-4342-bdd5-5f3c3b1b8c0f",
   "metadata": {},
   "outputs": [
    {
     "name": "stdout",
     "output_type": "stream",
     "text": [
      "    Temp  Pressure  Conc  Stirring  Block  Filtration\n",
      "0     -1        -1    -1        -1      1          25\n",
      "1      1        -1    -1        -1     -1          71\n",
      "2     -1         1    -1        -1     -1          48\n",
      "3      1         1    -1        -1      1          45\n",
      "4     -1        -1     1        -1     -1          68\n",
      "5      1        -1     1        -1      1          40\n",
      "6     -1         1     1        -1      1          60\n",
      "7      1         1     1        -1     -1          65\n",
      "8     -1        -1    -1         1     -1          43\n",
      "9      1        -1    -1         1      1          80\n",
      "10    -1         1    -1         1      1          25\n",
      "11     1         1    -1         1     -1         104\n",
      "12    -1        -1     1         1      1          55\n",
      "13     1        -1     1         1     -1          86\n",
      "14    -1         1     1         1     -1          70\n",
      "15     1         1     1         1      1          76\n"
     ]
    }
   ],
   "source": [
    "DF=pd.concat([A,B,C,D,E,OC],axis='columns')\n",
    "print(DF)"
   ]
  },
  {
   "cell_type": "code",
   "execution_count": 23,
   "id": "a9a95bde-fe8d-4ae2-a73b-3d69b7e79478",
   "metadata": {},
   "outputs": [
    {
     "name": "stdout",
     "output_type": "stream",
     "text": [
      "                  Results: Ordinary least squares\n",
      "===================================================================\n",
      "Model:               OLS              Adj. R-squared:     nan      \n",
      "Dependent Variable:  OC               AIC:                -908.8430\n",
      "Date:                2022-11-30 11:19 BIC:                -896.4816\n",
      "No. Observations:    16               Log-Likelihood:     470.42   \n",
      "Df Model:            15               F-statistic:        nan      \n",
      "Df Residuals:        0                Prob (F-statistic): nan      \n",
      "R-squared:           1.000            Scale:              inf      \n",
      "-------------------------------------------------------------------\n",
      "                        Coef.  Std.Err.    t    P>|t| [0.025 0.975]\n",
      "-------------------------------------------------------------------\n",
      "Intercept              60.0625      inf  0.0000   nan    nan    nan\n",
      "Temp                   10.8125      inf  0.0000   nan    nan    nan\n",
      "Pressure                1.5625      inf  0.0000   nan    nan    nan\n",
      "Conc                    4.9375      inf  0.0000   nan    nan    nan\n",
      "Stirring                7.3125      inf  0.0000   nan    nan    nan\n",
      "Block                  -9.3125      inf -0.0000   nan    nan    nan\n",
      "Temp:Pressure           0.0625      inf  0.0000   nan    nan    nan\n",
      "Temp:Conc              -9.0625      inf -0.0000   nan    nan    nan\n",
      "Temp:Stirring           8.3125      inf  0.0000   nan    nan    nan\n",
      "Pressure:Conc           1.1875      inf  0.0000   nan    nan    nan\n",
      "Pressure:Stirring      -0.1875      inf -0.0000   nan    nan    nan\n",
      "Conc:Stirring          -0.5625      inf -0.0000   nan    nan    nan\n",
      "Temp:Pressure:Conc      0.9375      inf  0.0000   nan    nan    nan\n",
      "Pressure:Conc:Stirring -1.3125      inf -0.0000   nan    nan    nan\n",
      "Temp:Conc:Stirring     -0.8125      inf -0.0000   nan    nan    nan\n",
      "Temp:Pressure:Stirring  2.0625      inf  0.0000   nan    nan    nan\n",
      "-------------------------------------------------------------------\n",
      "Omnibus:               3.989         Durbin-Watson:           1.217\n",
      "Prob(Omnibus):         0.136         Jarque-Bera (JB):        1.728\n",
      "Skew:                  -0.697        Prob(JB):                0.421\n",
      "Kurtosis:              3.805         Condition No.:           1    \n",
      "===================================================================\n",
      "\n"
     ]
    },
    {
     "name": "stderr",
     "output_type": "stream",
     "text": [
      "C:\\Users\\carol\\anaconda3\\lib\\site-packages\\scipy\\stats\\_stats_py.py:1769: UserWarning: kurtosistest only valid for n>=20 ... continuing anyway, n=16\n",
      "  warnings.warn(\"kurtosistest only valid for n>=20 ... continuing \"\n",
      "C:\\Users\\carol\\anaconda3\\lib\\site-packages\\statsmodels\\regression\\linear_model.py:1671: RuntimeWarning: divide by zero encountered in double_scalars\n",
      "  return np.dot(wresid, wresid) / self.df_resid\n",
      "C:\\Users\\carol\\anaconda3\\lib\\site-packages\\statsmodels\\regression\\linear_model.py:1749: RuntimeWarning: divide by zero encountered in true_divide\n",
      "  return 1 - (np.divide(self.nobs - self.k_constant, self.df_resid)\n",
      "C:\\Users\\carol\\anaconda3\\lib\\site-packages\\statsmodels\\regression\\linear_model.py:1749: RuntimeWarning: invalid value encountered in double_scalars\n",
      "  return 1 - (np.divide(self.nobs - self.k_constant, self.df_resid)\n"
     ]
    }
   ],
   "source": [
    "from statsmodels.formula.api import ols\n",
    "import statsmodels.api as sm\n",
    "\n",
    "model3=ols('OC~Temp+Pressure+Conc+Stirring+Block+Temp*Pressure+Temp*Conc+Temp*Stirring+Pressure*Conc+Pressure*Stirring+Conc*Stirring+Temp*Pressure*Conc+Pressure*Conc*Stirring+Temp*Conc*Stirring+Temp*Pressure*Stirring',data=DF)\n",
    "results3=model3.fit()\n",
    "print(results3.summary2())"
   ]
  },
  {
   "cell_type": "code",
   "execution_count": 24,
   "id": "8b4f3926-4fb6-42aa-91a5-c26a3d6452a7",
   "metadata": {},
   "outputs": [
    {
     "name": "stdout",
     "output_type": "stream",
     "text": [
      "                         df        sum_sq    mean_sq    F  PR(>F)\n",
      "Temp                    1.0  1.870562e+03  1870.5625  0.0     NaN\n",
      "Pressure                1.0  3.906250e+01    39.0625  0.0     NaN\n",
      "Conc                    1.0  3.900625e+02   390.0625  0.0     NaN\n",
      "Stirring                1.0  8.555625e+02   855.5625  0.0     NaN\n",
      "Block                   1.0  1.387562e+03  1387.5625  0.0     NaN\n",
      "Temp:Pressure           1.0  6.250000e-02     0.0625  0.0     NaN\n",
      "Temp:Conc               1.0  1.314062e+03  1314.0625  0.0     NaN\n",
      "Temp:Stirring           1.0  1.105563e+03  1105.5625  0.0     NaN\n",
      "Pressure:Conc           1.0  2.256250e+01    22.5625  0.0     NaN\n",
      "Pressure:Stirring       1.0  5.625000e-01     0.5625  0.0     NaN\n",
      "Conc:Stirring           1.0  5.062500e+00     5.0625  0.0     NaN\n",
      "Temp:Pressure:Conc      1.0  1.406250e+01    14.0625  0.0     NaN\n",
      "Pressure:Conc:Stirring  1.0  2.756250e+01    27.5625  0.0     NaN\n",
      "Temp:Conc:Stirring      1.0  1.056250e+01    10.5625  0.0     NaN\n",
      "Temp:Pressure:Stirring  1.0  6.806250e+01    68.0625  0.0     NaN\n",
      "Residual                0.0  2.716206e-26        inf  NaN     NaN\n"
     ]
    },
    {
     "name": "stderr",
     "output_type": "stream",
     "text": [
      "C:\\Users\\carol\\anaconda3\\lib\\site-packages\\statsmodels\\stats\\anova.py:138: RuntimeWarning: divide by zero encountered in double_scalars\n",
      "  (model.ssr / model.df_resid))\n"
     ]
    }
   ],
   "source": [
    "from statsmodels.stats.anova import anova_lm\n",
    "anova_results3 = anova_lm(results3)\n",
    "print(anova_results3)"
   ]
  },
  {
   "cell_type": "markdown",
   "id": "6dfe7e07-3e24-4b5a-9f38-49c412e33e1a",
   "metadata": {},
   "source": [
    "Refit the model with meaningful effects"
   ]
  },
  {
   "cell_type": "code",
   "execution_count": 27,
   "id": "ff3816a4-0559-4ea5-801f-7249f4fc2008",
   "metadata": {},
   "outputs": [
    {
     "name": "stdout",
     "output_type": "stream",
     "text": [
      "                 Results: Ordinary least squares\n",
      "=================================================================\n",
      "Model:              OLS              Adj. R-squared:     0.956   \n",
      "Dependent Variable: OC               AIC:                98.7904 \n",
      "Date:               2022-11-30 11:31 BIC:                104.1985\n",
      "No. Observations:   16               Log-Likelihood:     -42.395 \n",
      "Df Model:           6                F-statistic:        55.37   \n",
      "Df Residuals:       9                Prob (F-statistic): 1.35e-06\n",
      "R-squared:          0.974            Scale:              20.840  \n",
      "-----------------------------------------------------------------\n",
      "                  Coef.  Std.Err.    t    P>|t|   [0.025   0.975]\n",
      "-----------------------------------------------------------------\n",
      "Intercept        60.0625   1.1413 52.6274 0.0000  57.4807 62.6443\n",
      "Temp             10.8125   1.1413  9.4740 0.0000   8.2307 13.3943\n",
      "Conc              4.9375   1.1413  4.3263 0.0019   2.3557  7.5193\n",
      "Stirring          7.3125   1.1413  6.4073 0.0001   4.7307  9.8943\n",
      "Temp:Conc        -9.0625   1.1413 -7.9407 0.0000 -11.6443 -6.4807\n",
      "Temp:Stirring     8.3125   1.1413  7.2835 0.0000   5.7307 10.8943\n",
      "Block            -9.3125   1.1413 -8.1597 0.0000 -11.8943 -6.7307\n",
      "-----------------------------------------------------------------\n",
      "Omnibus:               1.472        Durbin-Watson:          1.505\n",
      "Prob(Omnibus):         0.479        Jarque-Bera (JB):       0.933\n",
      "Skew:                  -0.238       Prob(JB):               0.627\n",
      "Kurtosis:              1.916        Condition No.:          1    \n",
      "=================================================================\n",
      "\n"
     ]
    },
    {
     "name": "stderr",
     "output_type": "stream",
     "text": [
      "C:\\Users\\carol\\anaconda3\\lib\\site-packages\\scipy\\stats\\_stats_py.py:1769: UserWarning: kurtosistest only valid for n>=20 ... continuing anyway, n=16\n",
      "  warnings.warn(\"kurtosistest only valid for n>=20 ... continuing \"\n"
     ]
    }
   ],
   "source": [
    "model4=ols('OC~Temp+Conc+Stirring+Temp*Conc+Temp*Stirring+Block',data=DF)\n",
    "results4=model4.fit()\n",
    "print(results4.summary2())"
   ]
  },
  {
   "cell_type": "code",
   "execution_count": 28,
   "id": "10228e1b-7f0b-4c9a-ac3c-b3ae7fd4b642",
   "metadata": {},
   "outputs": [
    {
     "name": "stdout",
     "output_type": "stream",
     "text": [
      "                df     sum_sq      mean_sq          F    PR(>F)\n",
      "Temp           1.0  1870.5625  1870.562500  89.757081  0.000006\n",
      "Conc           1.0   390.0625   390.062500  18.716761  0.001915\n",
      "Stirring       1.0   855.5625   855.562500  41.053316  0.000124\n",
      "Temp:Conc      1.0  1314.0625  1314.062500  63.053982  0.000023\n",
      "Temp:Stirring  1.0  1105.5625  1105.562500  53.049317  0.000046\n",
      "Block          1.0  1387.5625  1387.562500  66.580806  0.000019\n",
      "Residual       9.0   187.5625    20.840278        NaN       NaN\n"
     ]
    }
   ],
   "source": [
    "anova_results4 = anova_lm(results4)\n",
    "print(anova_results4)"
   ]
  },
  {
   "cell_type": "markdown",
   "id": "5f52fbb4-efc0-4c60-b8f4-fac2580519c7",
   "metadata": {},
   "source": [
    "The Block effect now accumlates and conflates the block effect and the 4-way ABCD interaction.  The ABCD interaction previously (without the block effect) was 0.6875 for going from 0 to 1 in the ols model (so double this to 1.375 from -1 to 1).  \n",
    "\n",
    "Now, with the block effect, we have the block effect plus the ABCD interaction = -9.3215 (so double this to -18.643).  The block effect is -18.643 - 1.375 = -20.  This is the reduction we put in to show the poorer quality raw material used in block A = 1.  "
   ]
  },
  {
   "cell_type": "markdown",
   "id": "4793191c-8883-496a-b390-6e00bc8b4f44",
   "metadata": {},
   "source": [
    "This is a noise reductuion.  The added variability of the block gets distributed across other design factors and leads to lost ability to find true conclusions.  If you run the unblocked version of this experiment without accounting for the block, you get a high effect size for the interaction.  You have to include everything in the model and cannot reduce and simplify the model.  "
   ]
  },
  {
   "cell_type": "code",
   "execution_count": 29,
   "id": "df4f17a2-0a86-41a0-b333-f0e9a04e9ced",
   "metadata": {},
   "outputs": [
    {
     "name": "stdout",
     "output_type": "stream",
     "text": [
      "                    Results: Ordinary least squares\n",
      "========================================================================\n",
      "Model:                OLS                Adj. R-squared:       nan      \n",
      "Dependent Variable:   OC                 AIC:                  -909.8558\n",
      "Date:                 2022-11-30 11:51   BIC:                  -897.4944\n",
      "No. Observations:     16                 Log-Likelihood:       470.93   \n",
      "Df Model:             15                 F-statistic:          nan      \n",
      "Df Residuals:         0                  Prob (F-statistic):   nan      \n",
      "R-squared:            1.000              Scale:                inf      \n",
      "------------------------------------------------------------------------\n",
      "                             Coef.  Std.Err.    t    P>|t| [0.025 0.975]\n",
      "------------------------------------------------------------------------\n",
      "Intercept                   60.0625      inf  0.0000   nan    nan    nan\n",
      "Temp                        10.8125      inf  0.0000   nan    nan    nan\n",
      "Pressure                     1.5625      inf  0.0000   nan    nan    nan\n",
      "Temp:Pressure                0.0625      inf  0.0000   nan    nan    nan\n",
      "Conc                         4.9375      inf  0.0000   nan    nan    nan\n",
      "Temp:Conc                   -9.0625      inf -0.0000   nan    nan    nan\n",
      "Pressure:Conc                1.1875      inf  0.0000   nan    nan    nan\n",
      "Temp:Pressure:Conc           0.9375      inf  0.0000   nan    nan    nan\n",
      "Stirring                     7.3125      inf  0.0000   nan    nan    nan\n",
      "Temp:Stirring                8.3125      inf  0.0000   nan    nan    nan\n",
      "Pressure:Stirring           -0.1875      inf -0.0000   nan    nan    nan\n",
      "Temp:Pressure:Stirring       2.0625      inf  0.0000   nan    nan    nan\n",
      "Conc:Stirring               -0.5625      inf -0.0000   nan    nan    nan\n",
      "Temp:Conc:Stirring          -0.8125      inf -0.0000   nan    nan    nan\n",
      "Pressure:Conc:Stirring      -1.3125      inf -0.0000   nan    nan    nan\n",
      "Temp:Pressure:Conc:Stirring -9.3125      inf -0.0000   nan    nan    nan\n",
      "------------------------------------------------------------------------\n",
      "Omnibus:                2.468           Durbin-Watson:             0.733\n",
      "Prob(Omnibus):          0.291           Jarque-Bera (JB):          1.393\n",
      "Skew:                   -0.432          Prob(JB):                  0.498\n",
      "Kurtosis:               1.841           Condition No.:             1    \n",
      "========================================================================\n",
      "\n"
     ]
    },
    {
     "name": "stderr",
     "output_type": "stream",
     "text": [
      "C:\\Users\\carol\\anaconda3\\lib\\site-packages\\scipy\\stats\\_stats_py.py:1769: UserWarning: kurtosistest only valid for n>=20 ... continuing anyway, n=16\n",
      "  warnings.warn(\"kurtosistest only valid for n>=20 ... continuing \"\n",
      "C:\\Users\\carol\\anaconda3\\lib\\site-packages\\statsmodels\\regression\\linear_model.py:1671: RuntimeWarning: divide by zero encountered in double_scalars\n",
      "  return np.dot(wresid, wresid) / self.df_resid\n",
      "C:\\Users\\carol\\anaconda3\\lib\\site-packages\\statsmodels\\base\\model.py:1512: RuntimeWarning: invalid value encountered in multiply\n",
      "  cov_p = self.normalized_cov_params * scale\n",
      "C:\\Users\\carol\\anaconda3\\lib\\site-packages\\statsmodels\\regression\\linear_model.py:1749: RuntimeWarning: divide by zero encountered in true_divide\n",
      "  return 1 - (np.divide(self.nobs - self.k_constant, self.df_resid)\n",
      "C:\\Users\\carol\\anaconda3\\lib\\site-packages\\statsmodels\\regression\\linear_model.py:1749: RuntimeWarning: invalid value encountered in double_scalars\n",
      "  return 1 - (np.divide(self.nobs - self.k_constant, self.df_resid)\n"
     ]
    }
   ],
   "source": [
    "model5=ols('OC~Temp*Pressure*Conc*Stirring',data=DF)\n",
    "results5=model5.fit()\n",
    "print(results5.summary2())"
   ]
  },
  {
   "cell_type": "markdown",
   "id": "09ac66da-5b14-4944-a247-82ebd1d3dd60",
   "metadata": {},
   "source": [
    "If you account the 4-way interaction as noise and refit the model with Temp, Conc, and Stirring:"
   ]
  },
  {
   "cell_type": "code",
   "execution_count": 33,
   "id": "4e22e030-193f-4294-91e6-97b9d1b1a2d8",
   "metadata": {},
   "outputs": [
    {
     "name": "stdout",
     "output_type": "stream",
     "text": [
      "                 Results: Ordinary least squares\n",
      "=================================================================\n",
      "Model:              OLS              Adj. R-squared:     0.640   \n",
      "Dependent Variable: OC               AIC:                132.4363\n",
      "Date:               2022-11-30 12:01 BIC:                137.8444\n",
      "No. Observations:   16               Log-Likelihood:     -59.218 \n",
      "Df Model:           6                F-statistic:        5.444   \n",
      "Df Residuals:       9                Prob (F-statistic): 0.0123  \n",
      "R-squared:          0.784            Scale:              170.67  \n",
      "-----------------------------------------------------------------\n",
      "                  Coef.  Std.Err.    t    P>|t|   [0.025   0.975]\n",
      "-----------------------------------------------------------------\n",
      "Intercept        60.0625   3.2661 18.3899 0.0000  52.6742 67.4508\n",
      "Temp             10.8125   3.2661  3.3106 0.0091   3.4242 18.2008\n",
      "Pressure          1.5625   3.2661  0.4784 0.6438  -5.8258  8.9508\n",
      "Conc              4.9375   3.2661  1.5118 0.1649  -2.4508 12.3258\n",
      "Stirring          7.3125   3.2661  2.2389 0.0519  -0.0758 14.7008\n",
      "Temp:Conc        -9.0625   3.2661 -2.7748 0.0216 -16.4508 -1.6742\n",
      "Temp:Stirring     8.3125   3.2661  2.5451 0.0314   0.9242 15.7008\n",
      "-----------------------------------------------------------------\n",
      "Omnibus:               7.941        Durbin-Watson:          2.441\n",
      "Prob(Omnibus):         0.019        Jarque-Bera (JB):       1.714\n",
      "Skew:                  -0.015       Prob(JB):               0.425\n",
      "Kurtosis:              1.397        Condition No.:          1    \n",
      "=================================================================\n",
      "\n"
     ]
    },
    {
     "name": "stderr",
     "output_type": "stream",
     "text": [
      "C:\\Users\\carol\\anaconda3\\lib\\site-packages\\scipy\\stats\\_stats_py.py:1769: UserWarning: kurtosistest only valid for n>=20 ... continuing anyway, n=16\n",
      "  warnings.warn(\"kurtosistest only valid for n>=20 ... continuing \"\n"
     ]
    }
   ],
   "source": [
    "model6=ols('OC~Temp+Pressure+Conc+Stirring+Temp*Conc+Temp*Stirring',data=DF)\n",
    "results6=model6.fit()\n",
    "print(results6.summary2())"
   ]
  },
  {
   "cell_type": "code",
   "execution_count": 34,
   "id": "0208abd0-c5b5-477d-a433-f486cc4f3823",
   "metadata": {},
   "outputs": [
    {
     "name": "stdout",
     "output_type": "stream",
     "text": [
      "                df     sum_sq      mean_sq          F    PR(>F)\n",
      "Temp           1.0  1870.5625  1870.562500  10.959881  0.009076\n",
      "Pressure       1.0    39.0625    39.062500   0.228873  0.643769\n",
      "Conc           1.0   390.0625   390.062500   2.285429  0.164882\n",
      "Stirring       1.0   855.5625   855.562500   5.012858  0.051933\n",
      "Temp:Conc      1.0  1314.0625  1314.062500   7.699272  0.021585\n",
      "Temp:Stirring  1.0  1105.5625  1105.562500   6.477642  0.031445\n",
      "Residual       9.0  1536.0625   170.673611        NaN       NaN\n"
     ]
    }
   ],
   "source": [
    "anova_results6 = anova_lm(results6)\n",
    "print(anova_results6)"
   ]
  },
  {
   "cell_type": "markdown",
   "id": "f6fd6031-b188-4ca4-ade6-8708e6992cc3",
   "metadata": {},
   "source": [
    "Then the MSE for the model is 170.67.  This is higher than the one found with the blocking effect, where the MSE for that model is 20.84.  "
   ]
  },
  {
   "cell_type": "code",
   "execution_count": null,
   "id": "23c103c9-f52b-4aad-88d2-ac29089ad7b7",
   "metadata": {},
   "outputs": [],
   "source": []
  },
  {
   "cell_type": "code",
   "execution_count": null,
   "id": "39bba523-87a9-48f6-af91-62209880680b",
   "metadata": {},
   "outputs": [],
   "source": []
  },
  {
   "cell_type": "code",
   "execution_count": null,
   "id": "b30d57bc-3950-425e-b6c8-dc7ff4001db5",
   "metadata": {},
   "outputs": [],
   "source": []
  },
  {
   "cell_type": "code",
   "execution_count": null,
   "id": "ddb123f0-0e90-47be-95a0-3046d0986f38",
   "metadata": {},
   "outputs": [],
   "source": []
  },
  {
   "cell_type": "code",
   "execution_count": null,
   "id": "0902aa8e-e011-47fa-975b-dad45c6221b3",
   "metadata": {},
   "outputs": [],
   "source": []
  },
  {
   "cell_type": "code",
   "execution_count": null,
   "id": "e3770030-ba22-4661-83da-11111d332bca",
   "metadata": {},
   "outputs": [],
   "source": []
  }
 ],
 "metadata": {
  "kernelspec": {
   "display_name": "Python 3 (ipykernel)",
   "language": "python",
   "name": "python3"
  },
  "language_info": {
   "codemirror_mode": {
    "name": "ipython",
    "version": 3
   },
   "file_extension": ".py",
   "mimetype": "text/x-python",
   "name": "python",
   "nbconvert_exporter": "python",
   "pygments_lexer": "ipython3",
   "version": "3.9.13"
  }
 },
 "nbformat": 4,
 "nbformat_minor": 5
}
