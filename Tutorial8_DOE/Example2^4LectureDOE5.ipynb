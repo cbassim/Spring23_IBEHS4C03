{
 "cells": [
  {
   "cell_type": "code",
   "execution_count": 1,
   "id": "5fd24d9b-fcc1-417c-8466-7e560401e936",
   "metadata": {},
   "outputs": [
    {
     "name": "stdin",
     "output_type": "stream",
     "text": [
      "Once deleted, variables cannot be recovered. Proceed (y/[n])?  y\n"
     ]
    }
   ],
   "source": [
    "%reset"
   ]
  },
  {
   "cell_type": "code",
   "execution_count": 2,
   "id": "8f1448b2-696c-4ef6-917c-04edfde852de",
   "metadata": {},
   "outputs": [],
   "source": [
    "import numpy as np\n",
    "import pandas as pd\n",
    "from matplotlib import pyplot as plt\n",
    "import seaborn as sns"
   ]
  },
  {
   "cell_type": "markdown",
   "id": "ecea4575-d5e1-4a70-b74b-1a17d23413dd",
   "metadata": {},
   "source": [
    "# Four Factors at 2 Levels"
   ]
  },
  {
   "cell_type": "code",
   "execution_count": 3,
   "id": "de792b56-7b93-41f4-b8d3-e3b094cd6bae",
   "metadata": {},
   "outputs": [],
   "source": [
    "A=pd.Series([-1,1,-1,1,-1,+1,-1,+1,-1,1,-1,1,-1,+1,-1,+1])\n",
    "B=pd.Series([-1,-1,1,1,-1,-1,1,1,-1,-1,1,1,-1,-1,1,1])\n",
    "C=pd.Series([-1,-1,-1,-1,1,1,1,1,-1,-1,-1,-1,1,1,1,1])\n",
    "D=pd.Series([-1,-1,-1,-1,-1,-1,-1,-1,1,1,1,1,1,1,1,1])\n",
    "y=pd.Series([71,61,90,82,68,61,87,80,61,50,89,83,59,51,85,78])"
   ]
  },
  {
   "cell_type": "code",
   "execution_count": 4,
   "id": "b4e24269-a7ac-4a1c-a080-f23c4410cc61",
   "metadata": {},
   "outputs": [
    {
     "name": "stdout",
     "output_type": "stream",
     "text": [
      "    0  1  2  3   4\n",
      "0  -1 -1 -1 -1  71\n",
      "1   1 -1 -1 -1  61\n",
      "2  -1  1 -1 -1  90\n",
      "3   1  1 -1 -1  82\n",
      "4  -1 -1  1 -1  68\n",
      "5   1 -1  1 -1  61\n",
      "6  -1  1  1 -1  87\n",
      "7   1  1  1 -1  80\n",
      "8  -1 -1 -1  1  61\n",
      "9   1 -1 -1  1  50\n",
      "10 -1  1 -1  1  89\n",
      "11  1  1 -1  1  83\n",
      "12 -1 -1  1  1  59\n",
      "13  1 -1  1  1  51\n",
      "14 -1  1  1  1  85\n",
      "15  1  1  1  1  78\n"
     ]
    }
   ],
   "source": [
    "DF_Fit=pd.concat([A,B,C,D,y],axis='columns')\n",
    "print(DF_Fit)"
   ]
  },
  {
   "cell_type": "code",
   "execution_count": 5,
   "id": "78778368-1f1d-412d-892d-82160d003fa5",
   "metadata": {},
   "outputs": [
    {
     "name": "stdout",
     "output_type": "stream",
     "text": [
      "                 Results: Ordinary least squares\n",
      "==================================================================\n",
      "Model:              OLS              Adj. R-squared:     nan      \n",
      "Dependent Variable: y                AIC:                -914.8327\n",
      "Date:               2022-07-27 12:42 BIC:                -902.4713\n",
      "No. Observations:   16               Log-Likelihood:     473.42   \n",
      "Df Model:           15               F-statistic:        nan      \n",
      "Df Residuals:       0                Prob (F-statistic): nan      \n",
      "R-squared:          1.000            Scale:              inf      \n",
      "--------------------------------------------------------------------\n",
      "               Coef.    Std.Err.      t      P>|t|   [0.025   0.975]\n",
      "--------------------------------------------------------------------\n",
      "Intercept     72.2500        inf    0.0000     nan      nan      nan\n",
      "A             -4.0000        inf   -0.0000     nan      nan      nan\n",
      "B             12.0000        inf    0.0000     nan      nan      nan\n",
      "A:B            0.5000        inf    0.0000     nan      nan      nan\n",
      "C             -1.1250        inf   -0.0000     nan      nan      nan\n",
      "A:C            0.3750        inf    0.0000     nan      nan      nan\n",
      "B:C           -0.6250        inf   -0.0000     nan      nan      nan\n",
      "A:B:C         -0.3750        inf   -0.0000     nan      nan      nan\n",
      "D             -2.7500        inf   -0.0000     nan      nan      nan\n",
      "A:D            0.0000        inf    0.0000     nan      nan      nan\n",
      "B:D            2.2500        inf    0.0000     nan      nan      nan\n",
      "A:B:D          0.2500        inf    0.0000     nan      nan      nan\n",
      "C:D           -0.1250        inf   -0.0000     nan      nan      nan\n",
      "A:C:D         -0.1250        inf   -0.0000     nan      nan      nan\n",
      "B:C:D         -0.3750        inf   -0.0000     nan      nan      nan\n",
      "A:B:C:D       -0.1250        inf   -0.0000     nan      nan      nan\n",
      "------------------------------------------------------------------\n",
      "Omnibus:              12.270        Durbin-Watson:           0.378\n",
      "Prob(Omnibus):        0.002         Jarque-Bera (JB):        9.748\n",
      "Skew:                 -1.262        Prob(JB):                0.008\n",
      "Kurtosis:             5.873         Condition No.:           1    \n",
      "==================================================================\n",
      "\n"
     ]
    },
    {
     "name": "stderr",
     "output_type": "stream",
     "text": [
      "C:\\Users\\carol\\anaconda3\\lib\\site-packages\\scipy\\stats\\stats.py:1541: UserWarning: kurtosistest only valid for n>=20 ... continuing anyway, n=16\n",
      "  warnings.warn(\"kurtosistest only valid for n>=20 ... continuing \"\n",
      "C:\\Users\\carol\\anaconda3\\lib\\site-packages\\statsmodels\\regression\\linear_model.py:1671: RuntimeWarning: divide by zero encountered in double_scalars\n",
      "  return np.dot(wresid, wresid) / self.df_resid\n",
      "C:\\Users\\carol\\anaconda3\\lib\\site-packages\\statsmodels\\base\\model.py:1512: RuntimeWarning: invalid value encountered in multiply\n",
      "  cov_p = self.normalized_cov_params * scale\n",
      "C:\\Users\\carol\\anaconda3\\lib\\site-packages\\statsmodels\\regression\\linear_model.py:1749: RuntimeWarning: divide by zero encountered in true_divide\n",
      "  return 1 - (np.divide(self.nobs - self.k_constant, self.df_resid)\n",
      "C:\\Users\\carol\\anaconda3\\lib\\site-packages\\statsmodels\\regression\\linear_model.py:1749: RuntimeWarning: invalid value encountered in double_scalars\n",
      "  return 1 - (np.divide(self.nobs - self.k_constant, self.df_resid)\n"
     ]
    }
   ],
   "source": [
    "from statsmodels.formula.api import ols\n",
    "import statsmodels.api as sm\n",
    "\n",
    "model_Fit=ols('y~A*B*C*D',data=DF_Fit)\n",
    "results_Fit=model_Fit.fit()\n",
    "print(results_Fit.summary2())"
   ]
  },
  {
   "cell_type": "code",
   "execution_count": 6,
   "id": "eca09700-fae8-4789-95ff-58d04d4efa05",
   "metadata": {},
   "outputs": [
    {
     "name": "stderr",
     "output_type": "stream",
     "text": [
      "C:\\Users\\carol\\anaconda3\\lib\\site-packages\\scipy\\stats\\stats.py:1541: UserWarning: kurtosistest only valid for n>=20 ... continuing anyway, n=16\n",
      "  warnings.warn(\"kurtosistest only valid for n>=20 ... continuing \"\n"
     ]
    },
    {
     "name": "stdout",
     "output_type": "stream",
     "text": [
      "                 Results: Ordinary least squares\n",
      "=================================================================\n",
      "Model:              OLS              Adj. R-squared:     0.981   \n",
      "Dependent Variable: y                AIC:                69.6616 \n",
      "Date:               2022-07-27 12:42 BIC:                73.5245 \n",
      "No. Observations:   16               Log-Likelihood:     -29.831 \n",
      "Df Model:           4                F-statistic:        194.8   \n",
      "Df Residuals:       11               Prob (F-statistic): 3.97e-10\n",
      "R-squared:          0.986            Scale:              3.5455  \n",
      "------------------------------------------------------------------\n",
      "              Coef.   Std.Err.     t      P>|t|    [0.025   0.975]\n",
      "------------------------------------------------------------------\n",
      "Intercept    72.2500    0.4707  153.4836  0.0000  71.2139  73.2861\n",
      "A            -4.0000    0.4707   -8.4974  0.0000  -5.0361  -2.9639\n",
      "B            12.0000    0.4707   25.4921  0.0000  10.9639  13.0361\n",
      "D            -2.7500    0.4707   -5.8419  0.0001  -3.7861  -1.7139\n",
      "B:D           2.2500    0.4707    4.7798  0.0006   1.2139   3.2861\n",
      "-----------------------------------------------------------------\n",
      "Omnibus:              0.357        Durbin-Watson:           1.583\n",
      "Prob(Omnibus):        0.837        Jarque-Bera (JB):        0.487\n",
      "Skew:                 0.246        Prob(JB):                0.784\n",
      "Kurtosis:             2.302        Condition No.:           1    \n",
      "=================================================================\n",
      "\n"
     ]
    }
   ],
   "source": [
    "model_Refit=ols('y~A+B+D+B*D',data=DF_Fit)\n",
    "results_Refit=model_Refit.fit()\n",
    "print(results_Refit.summary2())"
   ]
  },
  {
   "cell_type": "code",
   "execution_count": 7,
   "id": "51616e77-15b2-4e2f-a3e1-7b265b37aab7",
   "metadata": {},
   "outputs": [
    {
     "name": "stdout",
     "output_type": "stream",
     "text": [
      "            df  sum_sq      mean_sq           F        PR(>F)\n",
      "A          1.0   256.0   256.000000   72.205128  3.664738e-06\n",
      "B          1.0  2304.0  2304.000000  649.846154  3.904591e-11\n",
      "D          1.0   121.0   121.000000   34.128205  1.122011e-04\n",
      "B:D        1.0    81.0    81.000000   22.846154  5.716301e-04\n",
      "Residual  11.0    39.0     3.545455         NaN           NaN\n"
     ]
    }
   ],
   "source": [
    "from statsmodels.stats.anova import anova_lm\n",
    "anova_results7 = anova_lm(results_Refit)\n",
    "print(anova_results7)"
   ]
  },
  {
   "cell_type": "markdown",
   "id": "e11f7ddd-f008-4705-b686-5dcaa00e8a91",
   "metadata": {},
   "source": [
    "# Standard Error and Replicates"
   ]
  },
  {
   "cell_type": "code",
   "execution_count": 8,
   "id": "102add60-170f-431f-aecf-ded5eb556e48",
   "metadata": {},
   "outputs": [],
   "source": [
    "A=pd.Series([-1,1,-1,1,-1,+1,-1,1,-1,1,-1,1],name=\"Catalyst\")\n",
    "B=pd.Series([-1,-1,1,1,-1,-1,1,1,-1,-1,1,1], name='Reactant')\n",
    "OC=pd.Series([28,36,18,31,25,32,19,30,27,32,23,29],name=\"Etch\")"
   ]
  },
  {
   "cell_type": "code",
   "execution_count": 9,
   "id": "788e577c-8de6-48d0-97da-fbddfe3ce809",
   "metadata": {},
   "outputs": [],
   "source": [
    "A=pd.Series([-1,1,-1,1,-1,+1,-1,1,-1,1,-1,1],name=\"Catalyst\")\n",
    "B=pd.Series([-1,-1,1,1,-1,-1,1,1,-1,-1,1,1], name='Reactant')\n",
    "OC=pd.Series([28,36,18,31,25,32,19,30,27,32,23,29],name=\"Etch\")"
   ]
  },
  {
   "cell_type": "code",
   "execution_count": 12,
   "id": "a638d481-735b-4e75-80ef-7551e2a9543d",
   "metadata": {},
   "outputs": [
    {
     "name": "stdout",
     "output_type": "stream",
     "text": [
      "                 Results: Ordinary least squares\n",
      "=================================================================\n",
      "Model:              OLS              Adj. R-squared:     0.867   \n",
      "Dependent Variable: OC               AIC:                53.5718 \n",
      "Date:               2022-07-27 12:43 BIC:                55.5115 \n",
      "No. Observations:   12               Log-Likelihood:     -22.786 \n",
      "Df Model:           3                F-statistic:        24.82   \n",
      "Df Residuals:       8                Prob (F-statistic): 0.000209\n",
      "R-squared:          0.903            Scale:              3.9167  \n",
      "------------------------------------------------------------------\n",
      "               Coef.   Std.Err.     t     P>|t|    [0.025   0.975]\n",
      "------------------------------------------------------------------\n",
      "Intercept     27.5000    0.5713  48.1354  0.0000  26.1826  28.8174\n",
      "A              4.1667    0.5713   7.2932  0.0001   2.8492   5.4841\n",
      "B             -2.5000    0.5713  -4.3759  0.0024  -3.8174  -1.1826\n",
      "A:B            0.8333    0.5713   1.4586  0.1828  -0.4841   2.1508\n",
      "-----------------------------------------------------------------\n",
      "Omnibus:              1.541        Durbin-Watson:           2.507\n",
      "Prob(Omnibus):        0.463        Jarque-Bera (JB):        1.153\n",
      "Skew:                 0.593        Prob(JB):                0.562\n",
      "Kurtosis:             2.051        Condition No.:           1    \n",
      "=================================================================\n",
      "\n"
     ]
    },
    {
     "name": "stderr",
     "output_type": "stream",
     "text": [
      "C:\\Users\\carol\\anaconda3\\lib\\site-packages\\scipy\\stats\\stats.py:1541: UserWarning: kurtosistest only valid for n>=20 ... continuing anyway, n=12\n",
      "  warnings.warn(\"kurtosistest only valid for n>=20 ... continuing \"\n"
     ]
    }
   ],
   "source": [
    "model6=ols('OC~A*B',data=OC)\n",
    "results6=model6.fit()\n",
    "print(results6.summary2())"
   ]
  },
  {
   "cell_type": "code",
   "execution_count": 13,
   "id": "29e08b5b-f51d-4455-9af5-062567ead3ef",
   "metadata": {},
   "outputs": [
    {
     "name": "stdout",
     "output_type": "stream",
     "text": [
      "           df      sum_sq     mean_sq          F    PR(>F)\n",
      "A         1.0  208.333333  208.333333  53.191489  0.000084\n",
      "B         1.0   75.000000   75.000000  19.148936  0.002362\n",
      "A:B       1.0    8.333333    8.333333   2.127660  0.182776\n",
      "Residual  8.0   31.333333    3.916667        NaN       NaN\n"
     ]
    }
   ],
   "source": [
    "anova_results6 = anova_lm(results6)\n",
    "print(anova_results6)"
   ]
  },
  {
   "cell_type": "code",
   "execution_count": null,
   "id": "d1d35044-1eda-47ec-bee4-28dc9c5d9d19",
   "metadata": {},
   "outputs": [],
   "source": []
  }
 ],
 "metadata": {
  "kernelspec": {
   "display_name": "Python 3 (ipykernel)",
   "language": "python",
   "name": "python3"
  },
  "language_info": {
   "codemirror_mode": {
    "name": "ipython",
    "version": 3
   },
   "file_extension": ".py",
   "mimetype": "text/x-python",
   "name": "python",
   "nbconvert_exporter": "python",
   "pygments_lexer": "ipython3",
   "version": "3.9.13"
  }
 },
 "nbformat": 4,
 "nbformat_minor": 5
}
